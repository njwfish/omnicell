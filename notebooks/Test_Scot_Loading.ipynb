{
 "cells": [
  {
   "cell_type": "code",
   "execution_count": 7,
   "metadata": {},
   "outputs": [
    {
     "name": "stderr",
     "output_type": "stream",
     "text": [
      "2025-02-17 13:05:35,510 - INFO - Loading data catalogue from /orcd/data/omarabu/001/opitcho/omnicell/configs/catalogue/FrangiehIzar2021_protein.yaml\n",
      "2025-02-17 13:05:35,512 - INFO - Loading data catalogue from /orcd/data/omarabu/001/opitcho/omnicell/configs/catalogue/PapalexiSatija2021_eccite_arrayed_RNA.yaml\n",
      "2025-02-17 13:05:35,514 - INFO - Loading data catalogue from /orcd/data/omarabu/001/opitcho/omnicell/configs/catalogue/AdamsonWeissman2016_GSM2406677_10X005.yaml\n",
      "2025-02-17 13:05:35,515 - INFO - Loading data catalogue from /orcd/data/omarabu/001/opitcho/omnicell/configs/catalogue/PapalexiSatija2021_eccite_protein.yaml\n",
      "2025-02-17 13:05:35,516 - INFO - Loading data catalogue from /orcd/data/omarabu/001/opitcho/omnicell/configs/catalogue/SchraivogelSteinmetz2020_TAP_SCREEN__chromosome_11_screen.yaml\n",
      "2025-02-17 13:05:35,518 - INFO - Loading data catalogue from /orcd/data/omarabu/001/opitcho/omnicell/configs/catalogue/DatlingerBock2021.yaml\n",
      "2025-02-17 13:05:35,519 - INFO - Loading data catalogue from /orcd/data/omarabu/001/opitcho/omnicell/configs/catalogue/AdamsonWeissman2016_GSM2406675_10X001.yaml\n",
      "2025-02-17 13:05:35,521 - INFO - Loading data catalogue from /orcd/data/omarabu/001/opitcho/omnicell/configs/catalogue/McFarlandTsherniak2020.yaml\n",
      "2025-02-17 13:05:35,522 - INFO - Loading data catalogue from /orcd/data/omarabu/001/opitcho/omnicell/configs/catalogue/FrangiehIzar2021_RNA.yaml\n",
      "2025-02-17 13:05:35,523 - INFO - Loading data catalogue from /orcd/data/omarabu/001/opitcho/omnicell/configs/catalogue/WeinrebKlein2020.yaml\n",
      "2025-02-17 13:05:35,525 - INFO - Loading data catalogue from /orcd/data/omarabu/001/opitcho/omnicell/configs/catalogue/SrivatsanTrapnell2020_sciplex4.yaml\n",
      "2025-02-17 13:05:35,526 - INFO - Loading data catalogue from /orcd/data/omarabu/001/opitcho/omnicell/configs/catalogue/GasperiniShendure2019_highMOI.yaml\n",
      "2025-02-17 13:05:35,528 - INFO - Loading data catalogue from /orcd/data/omarabu/001/opitcho/omnicell/configs/catalogue/ZhaoSims2021.yaml\n",
      "2025-02-17 13:05:35,529 - INFO - Loading data catalogue from /orcd/data/omarabu/001/opitcho/omnicell/configs/catalogue/satija_IFNB_raw.yaml\n",
      "2025-02-17 13:05:35,531 - INFO - Loading data catalogue from /orcd/data/omarabu/001/opitcho/omnicell/configs/catalogue/ReplogleWeissman2022_rpe1.yaml\n",
      "2025-02-17 13:05:35,532 - INFO - Loading data catalogue from /orcd/data/omarabu/001/opitcho/omnicell/configs/catalogue/PapalexiSatija2021_eccite_arrayed_protein.yaml\n",
      "2025-02-17 13:05:35,533 - INFO - Loading data catalogue from /orcd/data/omarabu/001/opitcho/omnicell/configs/catalogue/AdamsonWeissman2016_GSM2406681_10X010.yaml\n",
      "2025-02-17 13:05:35,535 - INFO - Loading data catalogue from /orcd/data/omarabu/001/opitcho/omnicell/configs/catalogue/SchraivogelSteinmetz2020_TAP_SCREEN__chromosome_8_screen.yaml\n",
      "2025-02-17 13:05:35,536 - INFO - Loading data catalogue from /orcd/data/omarabu/001/opitcho/omnicell/configs/catalogue/GasperiniShendure2019_atscale.yaml\n",
      "2025-02-17 13:05:35,537 - INFO - Loading data catalogue from /orcd/data/omarabu/001/opitcho/omnicell/configs/catalogue/TianKampmann2021_CRISPRi.yaml\n",
      "2025-02-17 13:05:35,539 - INFO - Loading data catalogue from /orcd/data/omarabu/001/opitcho/omnicell/configs/catalogue/DatlingerBock2017.yaml\n",
      "2025-02-17 13:05:35,540 - INFO - Loading data catalogue from /orcd/data/omarabu/001/opitcho/omnicell/configs/catalogue/SrivatsanTrapnell2020_sciplex2.yaml\n",
      "2025-02-17 13:05:35,541 - INFO - Loading data catalogue from /orcd/data/omarabu/001/opitcho/omnicell/configs/catalogue/satija_IFNB_HVG.yaml\n",
      "2025-02-17 13:05:35,543 - INFO - Loading data catalogue from /orcd/data/omarabu/001/opitcho/omnicell/configs/catalogue/ReplogleWeissman2022_K562_gwps.yaml\n",
      "2025-02-17 13:05:35,544 - INFO - Loading data catalogue from /orcd/data/omarabu/001/opitcho/omnicell/configs/catalogue/PapalexiSatija2021_eccite_RNA.yaml\n",
      "2025-02-17 13:05:35,546 - INFO - Loading data catalogue from /orcd/data/omarabu/001/opitcho/omnicell/configs/catalogue/DixitRegev2016.yaml\n",
      "2025-02-17 13:05:35,547 - INFO - Loading data catalogue from /orcd/data/omarabu/001/opitcho/omnicell/configs/catalogue/NormanWeissman2019_filtered.yaml\n",
      "2025-02-17 13:05:35,548 - INFO - Loading data catalogue from /orcd/data/omarabu/001/opitcho/omnicell/configs/catalogue/TianKampmann2021_CRISPRa.yaml\n",
      "2025-02-17 13:05:35,549 - INFO - Loading data catalogue from /orcd/data/omarabu/001/opitcho/omnicell/configs/catalogue/GasperiniShendure2019_lowMOI.yaml\n",
      "2025-02-17 13:05:35,551 - INFO - Loading data catalogue from /orcd/data/omarabu/001/opitcho/omnicell/configs/catalogue/ShifrutMarson2018.yaml\n",
      "2025-02-17 13:05:35,553 - INFO - Loading data catalogue from /orcd/data/omarabu/001/opitcho/omnicell/configs/catalogue/TianKampmann2019_iPSC.yaml\n",
      "2025-02-17 13:05:35,554 - INFO - Loading data catalogue from /orcd/data/omarabu/001/opitcho/omnicell/configs/catalogue/repogle_k562_essential_raw.yaml\n",
      "2025-02-17 13:05:35,556 - INFO - Loading data catalogue from /orcd/data/omarabu/001/opitcho/omnicell/configs/catalogue/GehringPachter2019.yaml\n",
      "2025-02-17 13:05:35,557 - INFO - Loading data catalogue from /orcd/data/omarabu/001/opitcho/omnicell/configs/catalogue/essential_gene_knockouts_raw.yaml\n",
      "2025-02-17 13:05:35,559 - INFO - Loading data catalogue from /orcd/data/omarabu/001/opitcho/omnicell/configs/catalogue/XieHon2017.yaml\n",
      "2025-02-17 13:05:35,560 - INFO - Loading data catalogue from /orcd/data/omarabu/001/opitcho/omnicell/configs/catalogue/ReplogleWeissman2022_K562_essential.yaml\n",
      "2025-02-17 13:05:35,562 - INFO - Loading data catalogue from /orcd/data/omarabu/001/opitcho/omnicell/configs/catalogue/kang.yaml\n",
      "2025-02-17 13:05:35,563 - INFO - Loading data catalogue from /orcd/data/omarabu/001/opitcho/omnicell/configs/catalogue/ChangYe2021.yaml\n",
      "2025-02-17 13:05:35,564 - INFO - Loading data catalogue from /orcd/data/omarabu/001/opitcho/omnicell/configs/catalogue/SrivatsanTrapnell2020_sciplex3.yaml\n",
      "2025-02-17 13:05:35,566 - INFO - Loading data catalogue from /orcd/data/omarabu/001/opitcho/omnicell/configs/catalogue/TianKampmann2019_day7neuron.yaml\n",
      "2025-02-17 13:05:35,567 - INFO - Loading training data at path: /orcd/data/omarabu/001/Omnicell_datasets/repogle_k562_essential_raw/K562_essential_raw_singlecell_01.h5ad\n"
     ]
    },
    {
     "name": "stdout",
     "output_type": "stream",
     "text": [
      "Using device: cuda\n"
     ]
    },
    {
     "name": "stderr",
     "output_type": "stream",
     "text": [
      "2025-02-17 13:05:39,937 - INFO - Loaded unpreprocessed data, # of data points: 310385, # of genes: 8563.\n",
      "2025-02-17 13:05:39,939 - INFO - Preprocessing training data\n",
      "2025-02-17 13:05:39,941 - INFO - Using identity features for perturbations\n",
      "2025-02-17 13:05:40,053 - INFO - Removing observations with perturbations not in the dataset as a column\n",
      "2025-02-17 13:05:40,246 - INFO - Removed 189 perturbations that were not in the dataset columns and 0 perturbations that did not have an embedding for a total of 189 perturbations removed out of an initial 2058 perturbations\n",
      "2025-02-17 13:06:11,688 - INFO - Doing OOD split\n"
     ]
    },
    {
     "name": "stdout",
     "output_type": "stream",
     "text": [
      "Data loaded:\n",
      "- Number of cells: 279630\n",
      "- Input dimension: 8563\n",
      "- Number of perturbations: 1850\n"
     ]
    }
   ],
   "source": [
    "import sys\n",
    "import yaml\n",
    "import torch\n",
    "import logging\n",
    "from pathlib import Path\n",
    "\n",
    "# Add the path to the directory containing the omnicell package\n",
    "# Assuming the omnicell package is in the parent directory of your notebook\n",
    "sys.path.append('..')  # Adjust this path as needed\n",
    "\n",
    "import yaml\n",
    "import torch\n",
    "import logging\n",
    "from pathlib import Path\n",
    "from omnicell.config.config import Config, ETLConfig, ModelConfig, DatasplitConfig, EvalConfig, EmbeddingConfig\n",
    "from omnicell.data.loader import DataLoader\n",
    "from omnicell.constants import PERT_KEY, GENE_EMBEDDING_KEY, CONTROL_PERT, OMNICELL_ROOT, SYNTHETIC_DATA_PATHS_KEY\n",
    "from omnicell.models.selector import load_model\n",
    "\n",
    "# Set up logging\n",
    "logging.basicConfig(level=logging.INFO, format='%(asctime)s - %(levelname)s - %(message)s')\n",
    "logger = logging.getLogger(__name__)\n",
    "\n",
    "# Configure paths\n",
    "MODEL_CONFIG = ModelConfig.from_yaml(f\"{OMNICELL_ROOT}/configs/models/scot/proportional_scot.yaml\")\n",
    "ETL_CONFIG = ETLConfig.from_yaml(f\"{OMNICELL_ROOT}/configs/ETL/no_preproc_drop_unmatched_scot.yaml\")\n",
    "EMBEDDING_CONFIG = EmbeddingConfig(pert_embedding='GenePT')\n",
    "\n",
    "SPLIT_CONFIG = DatasplitConfig.from_yaml(f\"{OMNICELL_ROOT}/configs/splits/repogle_k562_essential_raw/random_splits/rs_accP_k562_ood_ss:ns_20_2_most_pert_0.1/split_0/split_config.yaml\")\n",
    "EVAL_CONFIG = EvalConfig.from_yaml(f\"{OMNICELL_ROOT}/configs/splits/repogle_k562_essential_raw/random_splits/rs_accP_k562_ood_ss:ns_20_2_most_pert_0.1/split_0/eval_config.yaml\")  # Set this if you want to run evaluations\n",
    "\n",
    "# Load configurations\n",
    "config = Config(model_config=MODEL_CONFIG,\n",
    "                 etl_config=ETL_CONFIG, \n",
    "                 datasplit_config=SPLIT_CONFIG, \n",
    "                 eval_config=EVAL_CONFIG)\n",
    "\n",
    "\n",
    "\n",
    "\n",
    "#Alternatively you can initialize the config objects manually as follows:\n",
    "# etl_config = ETLConfig(name = XXX, log1p = False, drop_unmatched_perts = False, ...)\n",
    "# model_config = ...\n",
    "# embedding_config = ...\n",
    "# datasplit_config = ...\n",
    "# eval_config = ...\n",
    "# config = Config(etl_config, model_config, datasplit_config, eval_config)\n",
    "\n",
    "# Set up device\n",
    "device = torch.device('cuda' if torch.cuda.is_available() else 'cpu')\n",
    "print(f\"Using device: {device}\")\n",
    "\n",
    "# Initialize data loader and load training data\n",
    "loader = DataLoader(config)\n",
    "adata, pert_rep_map = loader.get_training_data()\n",
    "\n",
    "# Get dimensions and perturbation IDs\n",
    "input_dim = adata.X.shape[1]\n",
    "device = torch.device('cuda' if torch.cuda.is_available() else 'cpu')\n",
    "pert_ids = adata.obs[PERT_KEY].unique()\n",
    "gene_emb_dim = adata.varm[GENE_EMBEDDING_KEY].shape[1] if GENE_EMBEDDING_KEY in adata.varm else None\n",
    "\n",
    "print(f\"Data loaded:\")\n",
    "print(f\"- Number of cells: {adata.shape[0]}\")\n",
    "print(f\"- Input dimension: {input_dim}\")\n",
    "print(f\"- Number of perturbations: {len(pert_ids)}\")\n",
    "\n"
   ]
  },
  {
   "cell_type": "code",
   "execution_count": 8,
   "metadata": {},
   "outputs": [
    {
     "data": {
      "text/plain": [
       "[PosixPath('/orcd/data/omarabu/001/Omnicell_datasets/repogle_k562_essential_raw/synthetic_data/proportional_scot_no_preproc_drop_unmatched_b924ee39/synthetic_counterfactuals_14.pkl'),\n",
       " PosixPath('/orcd/data/omarabu/001/Omnicell_datasets/repogle_k562_essential_raw/synthetic_data/proportional_scot_no_preproc_drop_unmatched_b924ee39/synthetic_counterfactuals_13.pkl'),\n",
       " PosixPath('/orcd/data/omarabu/001/Omnicell_datasets/repogle_k562_essential_raw/synthetic_data/proportional_scot_no_preproc_drop_unmatched_b924ee39/synthetic_counterfactuals_8.pkl'),\n",
       " PosixPath('/orcd/data/omarabu/001/Omnicell_datasets/repogle_k562_essential_raw/synthetic_data/proportional_scot_no_preproc_drop_unmatched_b924ee39/synthetic_counterfactuals_1.pkl'),\n",
       " PosixPath('/orcd/data/omarabu/001/Omnicell_datasets/repogle_k562_essential_raw/synthetic_data/proportional_scot_no_preproc_drop_unmatched_b924ee39/synthetic_counterfactuals_6.pkl'),\n",
       " PosixPath('/orcd/data/omarabu/001/Omnicell_datasets/repogle_k562_essential_raw/synthetic_data/proportional_scot_no_preproc_drop_unmatched_b924ee39/synthetic_counterfactuals_20.pkl'),\n",
       " PosixPath('/orcd/data/omarabu/001/Omnicell_datasets/repogle_k562_essential_raw/synthetic_data/proportional_scot_no_preproc_drop_unmatched_b924ee39/synthetic_counterfactuals_12.pkl'),\n",
       " PosixPath('/orcd/data/omarabu/001/Omnicell_datasets/repogle_k562_essential_raw/synthetic_data/proportional_scot_no_preproc_drop_unmatched_b924ee39/synthetic_counterfactuals_15.pkl'),\n",
       " PosixPath('/orcd/data/omarabu/001/Omnicell_datasets/repogle_k562_essential_raw/synthetic_data/proportional_scot_no_preproc_drop_unmatched_b924ee39/synthetic_counterfactuals_7.pkl'),\n",
       " PosixPath('/orcd/data/omarabu/001/Omnicell_datasets/repogle_k562_essential_raw/synthetic_data/proportional_scot_no_preproc_drop_unmatched_b924ee39/synthetic_counterfactuals_0.pkl'),\n",
       " PosixPath('/orcd/data/omarabu/001/Omnicell_datasets/repogle_k562_essential_raw/synthetic_data/proportional_scot_no_preproc_drop_unmatched_b924ee39/synthetic_counterfactuals_9.pkl'),\n",
       " PosixPath('/orcd/data/omarabu/001/Omnicell_datasets/repogle_k562_essential_raw/synthetic_data/proportional_scot_no_preproc_drop_unmatched_b924ee39/synthetic_counterfactuals_3.pkl'),\n",
       " PosixPath('/orcd/data/omarabu/001/Omnicell_datasets/repogle_k562_essential_raw/synthetic_data/proportional_scot_no_preproc_drop_unmatched_b924ee39/synthetic_counterfactuals_4.pkl'),\n",
       " PosixPath('/orcd/data/omarabu/001/Omnicell_datasets/repogle_k562_essential_raw/synthetic_data/proportional_scot_no_preproc_drop_unmatched_b924ee39/synthetic_counterfactuals_18.pkl'),\n",
       " PosixPath('/orcd/data/omarabu/001/Omnicell_datasets/repogle_k562_essential_raw/synthetic_data/proportional_scot_no_preproc_drop_unmatched_b924ee39/synthetic_counterfactuals_16.pkl'),\n",
       " PosixPath('/orcd/data/omarabu/001/Omnicell_datasets/repogle_k562_essential_raw/synthetic_data/proportional_scot_no_preproc_drop_unmatched_b924ee39/synthetic_counterfactuals_11.pkl'),\n",
       " PosixPath('/orcd/data/omarabu/001/Omnicell_datasets/repogle_k562_essential_raw/synthetic_data/proportional_scot_no_preproc_drop_unmatched_b924ee39/synthetic_counterfactuals_5.pkl'),\n",
       " PosixPath('/orcd/data/omarabu/001/Omnicell_datasets/repogle_k562_essential_raw/synthetic_data/proportional_scot_no_preproc_drop_unmatched_b924ee39/synthetic_counterfactuals_2.pkl'),\n",
       " PosixPath('/orcd/data/omarabu/001/Omnicell_datasets/repogle_k562_essential_raw/synthetic_data/proportional_scot_no_preproc_drop_unmatched_b924ee39/synthetic_counterfactuals_10.pkl'),\n",
       " PosixPath('/orcd/data/omarabu/001/Omnicell_datasets/repogle_k562_essential_raw/synthetic_data/proportional_scot_no_preproc_drop_unmatched_b924ee39/synthetic_counterfactuals_17.pkl'),\n",
       " PosixPath('/orcd/data/omarabu/001/Omnicell_datasets/repogle_k562_essential_raw/synthetic_data/proportional_scot_no_preproc_drop_unmatched_b924ee39/synthetic_counterfactuals_19.pkl')]"
      ]
     },
     "execution_count": 8,
     "metadata": {},
     "output_type": "execute_result"
    }
   ],
   "source": [
    "\n",
    "adata.uns[SYNTHETIC_DATA_PATHS_KEY]"
   ]
  },
  {
   "cell_type": "code",
   "execution_count": null,
   "metadata": {},
   "outputs": [],
   "source": []
  }
 ],
 "metadata": {
  "kernelspec": {
   "display_name": "omnicell",
   "language": "python",
   "name": "python3"
  },
  "language_info": {
   "codemirror_mode": {
    "name": "ipython",
    "version": 3
   },
   "file_extension": ".py",
   "mimetype": "text/x-python",
   "name": "python",
   "nbconvert_exporter": "python",
   "pygments_lexer": "ipython3",
   "version": "3.9.21"
  }
 },
 "nbformat": 4,
 "nbformat_minor": 2
}
