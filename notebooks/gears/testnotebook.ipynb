{
 "cells": [
  {
   "cell_type": "code",
   "execution_count": 1,
   "metadata": {},
   "outputs": [],
   "source": [
    "import sys\n",
    "import sys\n",
    "sys.path.append('../../')\n",
    "from omnicell.constants import *\n",
    "\n",
    "from omnicell.models.gears.gears import GEARS\n",
    "import omnicell.models.gears.pertdata as pertdata_new\n",
    "from omnicell.data.catalogue import Catalogue\n",
    "from omnicell.models.gears.pertdata import PertData\n",
    "from omnicell.data.catalogue import Catalogue\n",
    "from omnicell.models.gears.gears import GEARS\n",
    "import scanpy as sc\n",
    "import torch\n",
    "import numpy as np\n"
   ]
  },
  {
   "cell_type": "code",
   "execution_count": 4,
   "metadata": {},
   "outputs": [
    {
     "data": {
      "text/html": [
       "<div>\n",
       "<style scoped>\n",
       "    .dataframe tbody tr th:only-of-type {\n",
       "        vertical-align: middle;\n",
       "    }\n",
       "\n",
       "    .dataframe tbody tr th {\n",
       "        vertical-align: top;\n",
       "    }\n",
       "\n",
       "    .dataframe thead th {\n",
       "        text-align: right;\n",
       "    }\n",
       "</style>\n",
       "<table border=\"1\" class=\"dataframe\">\n",
       "  <thead>\n",
       "    <tr style=\"text-align: right;\">\n",
       "      <th></th>\n",
       "      <th>gem_group</th>\n",
       "      <th>gene</th>\n",
       "      <th>gene_id</th>\n",
       "      <th>transcript</th>\n",
       "      <th>gene_transcript</th>\n",
       "      <th>sgID_AB</th>\n",
       "      <th>mitopercent</th>\n",
       "      <th>UMI_count</th>\n",
       "      <th>z_gemgroup_UMI</th>\n",
       "      <th>core_scale_factor</th>\n",
       "      <th>core_adjusted_UMI_count</th>\n",
       "      <th>cell_type</th>\n",
       "    </tr>\n",
       "    <tr>\n",
       "      <th>cell_barcode</th>\n",
       "      <th></th>\n",
       "      <th></th>\n",
       "      <th></th>\n",
       "      <th></th>\n",
       "      <th></th>\n",
       "      <th></th>\n",
       "      <th></th>\n",
       "      <th></th>\n",
       "      <th></th>\n",
       "      <th></th>\n",
       "      <th></th>\n",
       "      <th></th>\n",
       "    </tr>\n",
       "  </thead>\n",
       "  <tbody>\n",
       "    <tr>\n",
       "      <th>AAACCCAAGCGAGGAG-47</th>\n",
       "      <td>47</td>\n",
       "      <td>non-targeting</td>\n",
       "      <td>non-targeting</td>\n",
       "      <td>non-targeting</td>\n",
       "      <td>11059_non-targeting_non-targeting_non-targeting</td>\n",
       "      <td>non-targeting_02010|non-targeting_01147</td>\n",
       "      <td>0.092709</td>\n",
       "      <td>12221.0</td>\n",
       "      <td>1.096669</td>\n",
       "      <td>0.600264</td>\n",
       "      <td>20359.363281</td>\n",
       "      <td>k562</td>\n",
       "    </tr>\n",
       "    <tr>\n",
       "      <th>AAACCCAAGCGTCTGC-27</th>\n",
       "      <td>27</td>\n",
       "      <td>non-targeting</td>\n",
       "      <td>non-targeting</td>\n",
       "      <td>non-targeting</td>\n",
       "      <td>11020_non-targeting_non-targeting_non-targeting</td>\n",
       "      <td>non-targeting_01763|non-targeting_02345</td>\n",
       "      <td>0.087307</td>\n",
       "      <td>14638.0</td>\n",
       "      <td>0.760877</td>\n",
       "      <td>0.813253</td>\n",
       "      <td>17999.330078</td>\n",
       "      <td>k562</td>\n",
       "    </tr>\n",
       "    <tr>\n",
       "      <th>AAACCCAAGGAGGGTG-47</th>\n",
       "      <td>47</td>\n",
       "      <td>non-targeting</td>\n",
       "      <td>non-targeting</td>\n",
       "      <td>non-targeting</td>\n",
       "      <td>11097_non-targeting_non-targeting_non-targeting</td>\n",
       "      <td>non-targeting_02274|non-targeting_01075</td>\n",
       "      <td>0.144649</td>\n",
       "      <td>11241.0</td>\n",
       "      <td>0.813080</td>\n",
       "      <td>0.600264</td>\n",
       "      <td>18726.748047</td>\n",
       "      <td>k562</td>\n",
       "    </tr>\n",
       "    <tr>\n",
       "      <th>AAACCCAAGTACCCTA-20</th>\n",
       "      <td>20</td>\n",
       "      <td>non-targeting</td>\n",
       "      <td>non-targeting</td>\n",
       "      <td>non-targeting</td>\n",
       "      <td>11320_non-targeting_non-targeting_non-targeting</td>\n",
       "      <td>non-targeting_03721|non-targeting_02172</td>\n",
       "      <td>0.101813</td>\n",
       "      <td>20302.0</td>\n",
       "      <td>1.392648</td>\n",
       "      <td>1.030337</td>\n",
       "      <td>19704.224609</td>\n",
       "      <td>k562</td>\n",
       "    </tr>\n",
       "    <tr>\n",
       "      <th>AAACCCAAGTGTTCAC-3</th>\n",
       "      <td>3</td>\n",
       "      <td>non-targeting</td>\n",
       "      <td>non-targeting</td>\n",
       "      <td>non-targeting</td>\n",
       "      <td>10969_non-targeting_non-targeting_non-targeting</td>\n",
       "      <td>non-targeting_01395|non-targeting_02523</td>\n",
       "      <td>0.085352</td>\n",
       "      <td>16098.0</td>\n",
       "      <td>0.087551</td>\n",
       "      <td>1.112077</td>\n",
       "      <td>14475.623047</td>\n",
       "      <td>k562</td>\n",
       "    </tr>\n",
       "    <tr>\n",
       "      <th>...</th>\n",
       "      <td>...</td>\n",
       "      <td>...</td>\n",
       "      <td>...</td>\n",
       "      <td>...</td>\n",
       "      <td>...</td>\n",
       "      <td>...</td>\n",
       "      <td>...</td>\n",
       "      <td>...</td>\n",
       "      <td>...</td>\n",
       "      <td>...</td>\n",
       "      <td>...</td>\n",
       "      <td>...</td>\n",
       "    </tr>\n",
       "    <tr>\n",
       "      <th>TTTGTTGGTCGGCCTA-1</th>\n",
       "      <td>1</td>\n",
       "      <td>non-targeting</td>\n",
       "      <td>non-targeting</td>\n",
       "      <td>non-targeting</td>\n",
       "      <td>11187_non-targeting_non-targeting_non-targeting</td>\n",
       "      <td>non-targeting_02821|non-targeting_02347</td>\n",
       "      <td>0.121196</td>\n",
       "      <td>15446.0</td>\n",
       "      <td>1.213461</td>\n",
       "      <td>0.801973</td>\n",
       "      <td>19259.994141</td>\n",
       "      <td>k562</td>\n",
       "    </tr>\n",
       "    <tr>\n",
       "      <th>TTTGTTGGTCGTCTCT-6</th>\n",
       "      <td>6</td>\n",
       "      <td>non-targeting</td>\n",
       "      <td>non-targeting</td>\n",
       "      <td>non-targeting</td>\n",
       "      <td>11290_non-targeting_non-targeting_non-targeting</td>\n",
       "      <td>non-targeting_03530|non-targeting_01407</td>\n",
       "      <td>0.082511</td>\n",
       "      <td>8811.0</td>\n",
       "      <td>-1.069496</td>\n",
       "      <td>0.954127</td>\n",
       "      <td>9234.618164</td>\n",
       "      <td>k562</td>\n",
       "    </tr>\n",
       "    <tr>\n",
       "      <th>TTTGTTGGTGCTATTG-36</th>\n",
       "      <td>36</td>\n",
       "      <td>non-targeting</td>\n",
       "      <td>non-targeting</td>\n",
       "      <td>non-targeting</td>\n",
       "      <td>11248_non-targeting_non-targeting_non-targeting</td>\n",
       "      <td>non-targeting_03258|non-targeting_01564</td>\n",
       "      <td>0.072660</td>\n",
       "      <td>8409.0</td>\n",
       "      <td>-1.306466</td>\n",
       "      <td>1.011235</td>\n",
       "      <td>8315.576172</td>\n",
       "      <td>k562</td>\n",
       "    </tr>\n",
       "    <tr>\n",
       "      <th>TTTGTTGTCGCAACAT-25</th>\n",
       "      <td>25</td>\n",
       "      <td>non-targeting</td>\n",
       "      <td>non-targeting</td>\n",
       "      <td>non-targeting</td>\n",
       "      <td>10817_non-targeting_non-targeting_non-targeting</td>\n",
       "      <td>non-targeting_00389|non-targeting_03628</td>\n",
       "      <td>0.085007</td>\n",
       "      <td>16481.0</td>\n",
       "      <td>0.997595</td>\n",
       "      <td>0.855594</td>\n",
       "      <td>19262.640625</td>\n",
       "      <td>k562</td>\n",
       "    </tr>\n",
       "    <tr>\n",
       "      <th>TTTGTTGTCTCCATAT-23</th>\n",
       "      <td>23</td>\n",
       "      <td>non-targeting</td>\n",
       "      <td>non-targeting</td>\n",
       "      <td>non-targeting</td>\n",
       "      <td>11218_non-targeting_non-targeting_non-targeting</td>\n",
       "      <td>non-targeting_03044|non-targeting_00667</td>\n",
       "      <td>0.102938</td>\n",
       "      <td>19876.0</td>\n",
       "      <td>0.587101</td>\n",
       "      <td>1.181794</td>\n",
       "      <td>16818.501953</td>\n",
       "      <td>k562</td>\n",
       "    </tr>\n",
       "  </tbody>\n",
       "</table>\n",
       "<p>11913 rows × 12 columns</p>\n",
       "</div>"
      ],
      "text/plain": [
       "                     gem_group           gene        gene_id     transcript  \\\n",
       "cell_barcode                                                                  \n",
       "AAACCCAAGCGAGGAG-47         47  non-targeting  non-targeting  non-targeting   \n",
       "AAACCCAAGCGTCTGC-27         27  non-targeting  non-targeting  non-targeting   \n",
       "AAACCCAAGGAGGGTG-47         47  non-targeting  non-targeting  non-targeting   \n",
       "AAACCCAAGTACCCTA-20         20  non-targeting  non-targeting  non-targeting   \n",
       "AAACCCAAGTGTTCAC-3           3  non-targeting  non-targeting  non-targeting   \n",
       "...                        ...            ...            ...            ...   \n",
       "TTTGTTGGTCGGCCTA-1           1  non-targeting  non-targeting  non-targeting   \n",
       "TTTGTTGGTCGTCTCT-6           6  non-targeting  non-targeting  non-targeting   \n",
       "TTTGTTGGTGCTATTG-36         36  non-targeting  non-targeting  non-targeting   \n",
       "TTTGTTGTCGCAACAT-25         25  non-targeting  non-targeting  non-targeting   \n",
       "TTTGTTGTCTCCATAT-23         23  non-targeting  non-targeting  non-targeting   \n",
       "\n",
       "                                                     gene_transcript  \\\n",
       "cell_barcode                                                           \n",
       "AAACCCAAGCGAGGAG-47  11059_non-targeting_non-targeting_non-targeting   \n",
       "AAACCCAAGCGTCTGC-27  11020_non-targeting_non-targeting_non-targeting   \n",
       "AAACCCAAGGAGGGTG-47  11097_non-targeting_non-targeting_non-targeting   \n",
       "AAACCCAAGTACCCTA-20  11320_non-targeting_non-targeting_non-targeting   \n",
       "AAACCCAAGTGTTCAC-3   10969_non-targeting_non-targeting_non-targeting   \n",
       "...                                                              ...   \n",
       "TTTGTTGGTCGGCCTA-1   11187_non-targeting_non-targeting_non-targeting   \n",
       "TTTGTTGGTCGTCTCT-6   11290_non-targeting_non-targeting_non-targeting   \n",
       "TTTGTTGGTGCTATTG-36  11248_non-targeting_non-targeting_non-targeting   \n",
       "TTTGTTGTCGCAACAT-25  10817_non-targeting_non-targeting_non-targeting   \n",
       "TTTGTTGTCTCCATAT-23  11218_non-targeting_non-targeting_non-targeting   \n",
       "\n",
       "                                                     sgID_AB  mitopercent  \\\n",
       "cell_barcode                                                                \n",
       "AAACCCAAGCGAGGAG-47  non-targeting_02010|non-targeting_01147     0.092709   \n",
       "AAACCCAAGCGTCTGC-27  non-targeting_01763|non-targeting_02345     0.087307   \n",
       "AAACCCAAGGAGGGTG-47  non-targeting_02274|non-targeting_01075     0.144649   \n",
       "AAACCCAAGTACCCTA-20  non-targeting_03721|non-targeting_02172     0.101813   \n",
       "AAACCCAAGTGTTCAC-3   non-targeting_01395|non-targeting_02523     0.085352   \n",
       "...                                                      ...          ...   \n",
       "TTTGTTGGTCGGCCTA-1   non-targeting_02821|non-targeting_02347     0.121196   \n",
       "TTTGTTGGTCGTCTCT-6   non-targeting_03530|non-targeting_01407     0.082511   \n",
       "TTTGTTGGTGCTATTG-36  non-targeting_03258|non-targeting_01564     0.072660   \n",
       "TTTGTTGTCGCAACAT-25  non-targeting_00389|non-targeting_03628     0.085007   \n",
       "TTTGTTGTCTCCATAT-23  non-targeting_03044|non-targeting_00667     0.102938   \n",
       "\n",
       "                     UMI_count  z_gemgroup_UMI  core_scale_factor  \\\n",
       "cell_barcode                                                        \n",
       "AAACCCAAGCGAGGAG-47    12221.0        1.096669           0.600264   \n",
       "AAACCCAAGCGTCTGC-27    14638.0        0.760877           0.813253   \n",
       "AAACCCAAGGAGGGTG-47    11241.0        0.813080           0.600264   \n",
       "AAACCCAAGTACCCTA-20    20302.0        1.392648           1.030337   \n",
       "AAACCCAAGTGTTCAC-3     16098.0        0.087551           1.112077   \n",
       "...                        ...             ...                ...   \n",
       "TTTGTTGGTCGGCCTA-1     15446.0        1.213461           0.801973   \n",
       "TTTGTTGGTCGTCTCT-6      8811.0       -1.069496           0.954127   \n",
       "TTTGTTGGTGCTATTG-36     8409.0       -1.306466           1.011235   \n",
       "TTTGTTGTCGCAACAT-25    16481.0        0.997595           0.855594   \n",
       "TTTGTTGTCTCCATAT-23    19876.0        0.587101           1.181794   \n",
       "\n",
       "                     core_adjusted_UMI_count cell_type  \n",
       "cell_barcode                                            \n",
       "AAACCCAAGCGAGGAG-47             20359.363281      k562  \n",
       "AAACCCAAGCGTCTGC-27             17999.330078      k562  \n",
       "AAACCCAAGGAGGGTG-47             18726.748047      k562  \n",
       "AAACCCAAGTACCCTA-20             19704.224609      k562  \n",
       "AAACCCAAGTGTTCAC-3              14475.623047      k562  \n",
       "...                                      ...       ...  \n",
       "TTTGTTGGTCGGCCTA-1              19259.994141      k562  \n",
       "TTTGTTGGTCGTCTCT-6               9234.618164      k562  \n",
       "TTTGTTGGTGCTATTG-36              8315.576172      k562  \n",
       "TTTGTTGTCGCAACAT-25             19262.640625      k562  \n",
       "TTTGTTGTCTCCATAT-23             16818.501953      k562  \n",
       "\n",
       "[11913 rows x 12 columns]"
      ]
     },
     "execution_count": 4,
     "metadata": {},
     "output_type": "execute_result"
    }
   ],
   "source": [
    "\n",
    "\n",
    "DATASET_NAME = 'repogle_k562_essential_raw'\n",
    "dd = Catalogue.get_dataset_details(DATASET_NAME)\n",
    "adata = sc.read(dd.path)\n",
    "\n",
    "\n",
    "perts_original = [x for x in adata.obs[dd.pert_key].unique() if x != dd.control]\n",
    "#random selection of 20 perts + control\n",
    "perts = np.random.choice(adata.obs[dd.pert_key].unique(), 10, replace=False)\n",
    "perts = set(perts).union(set([dd.control]))\n",
    "adata = adata[adata.obs[dd.pert_key].isin(perts)]\n",
    "\n",
    "\n",
    "adata.obs"
   ]
  },
  {
   "cell_type": "code",
   "execution_count": 5,
   "metadata": {},
   "outputs": [],
   "source": [
    "\n",
    "adata.obs[\"condition\"] = adata.obs[dd.pert_key]\n",
    "adata.obs[\"cell_type\"] = adata.obs[dd.cell_key]\n",
    "perts = [p for p in adata.obs[\"condition\"].unique() if p != dd.control]\n",
    "adata.obs[\"condition\"] = adata.obs[\"condition\"].replace({dd.control:\"ctrl\"})\n",
    "adata.obs[\"condition\"] = adata.obs[\"condition\"].replace({p:p+\"+ctrl\" for p in perts})\n",
    "adata.var[\"gene_name\"] = adata.var_names\n",
    "\n",
    "\n"
   ]
  },
  {
   "cell_type": "code",
   "execution_count": 6,
   "metadata": {},
   "outputs": [
    {
     "name": "stdout",
     "output_type": "stream",
     "text": [
      "Data loaded from /orcd/data/omarabu/001/Omnicell_datasets/repogle_k562_essential_raw/K562_essential_raw_singlecell_01.h5ad\n",
      "Data normalized and log transformed\n"
     ]
    }
   ],
   "source": [
    "\n",
    "\n",
    "\n",
    "print(f\"Data loaded from {dd.path}\")\n",
    "sc.pp.normalize_total(adata)\n",
    "sc.pp.log1p(adata)\n",
    "print(f\"Data normalized and log transformed\")\n",
    "\n",
    "device = 'cuda' if torch.cuda.is_available() else 'cpu'\n",
    "\n"
   ]
  },
  {
   "cell_type": "code",
   "execution_count": 7,
   "metadata": {},
   "outputs": [
    {
     "name": "stderr",
     "output_type": "stream",
     "text": [
      "Downloading...\n",
      "100%|██████████| 9.46M/9.46M [00:00<00:00, 11.8MiB/s]\n",
      "Downloading...\n"
     ]
    },
    {
     "name": "stdout",
     "output_type": "stream",
     "text": [
      "Saving data in ./data\n",
      "Starting new data processing for repogle_k562_essential_raw\n"
     ]
    },
    {
     "name": "stderr",
     "output_type": "stream",
     "text": [
      "100%|██████████| 559k/559k [00:00<00:00, 2.47MiB/s]\n"
     ]
    },
    {
     "name": "stdout",
     "output_type": "stream",
     "text": [
      "Creating 10691 cell graphs for ctrl: 0.42 seconds\n",
      "create_cell_graph_dataset call duration: ctrl: 0.74 seconds\n",
      "Creating 123 cell graphs for HIST1H2AE+ctrl: 0.00 seconds\n",
      "create_cell_graph_dataset call duration: HIST1H2AE+ctrl: 0.18 seconds\n",
      "Creating 225 cell graphs for POLR2E+ctrl: 0.00 seconds\n",
      "create_cell_graph_dataset call duration: POLR2E+ctrl: 0.18 seconds\n",
      "Creating 130 cell graphs for SNRPF+ctrl: 0.00 seconds\n",
      "create_cell_graph_dataset call duration: SNRPF+ctrl: 0.17 seconds\n",
      "Creating 97 cell graphs for RFC2+ctrl: 0.00 seconds\n",
      "create_cell_graph_dataset call duration: RFC2+ctrl: 0.16 seconds\n",
      "Creating 29 cell graphs for HSPE1+ctrl: 0.00 seconds\n",
      "create_cell_graph_dataset call duration: HSPE1+ctrl: 0.12 seconds\n",
      "Creating 175 cell graphs for ATP6AP2+ctrl: 0.00 seconds\n",
      "create_cell_graph_dataset call duration: ATP6AP2+ctrl: 0.19 seconds\n",
      "Creating 144 cell graphs for RPS5+ctrl: 0.00 seconds\n",
      "create_cell_graph_dataset call duration: RPS5+ctrl: 0.17 seconds\n",
      "Creating 143 cell graphs for COX17+ctrl: 0.00 seconds\n",
      "create_cell_graph_dataset call duration: COX17+ctrl: 0.17 seconds\n",
      "Creating 146 cell graphs for TOE1+ctrl: 0.00 seconds\n",
      "create_cell_graph_dataset call duration: TOE1+ctrl: 0.17 seconds\n"
     ]
    },
    {
     "name": "stderr",
     "output_type": "stream",
     "text": [
      "Creating new splits....\n",
      "Saving new splits at ./data_new/repogle_k562_essential_raw/splits/repogle_k562_essential_raw_no_test_1_0.75.pkl\n",
      "Done!\n",
      "Creating dataloaders....\n",
      "Done!\n"
     ]
    },
    {
     "name": "stdout",
     "output_type": "stream",
     "text": [
      "Creating 10 cell graphs for PPY+ctrl: 0.00 seconds\n",
      "create_cell_graph_dataset call duration: PPY+ctrl: 0.11 seconds\n",
      "Done!\n",
      "Data processed and saved in ./data_new\n",
      "Data split with seed 1\n",
      "Data loader prepared\n"
     ]
    }
   ],
   "source": [
    "pert_data_new = pertdata_new.PertData('./data_new') # specific saved folder\n",
    "\n",
    "\n",
    "print(f\"Saving data in ./data\")\n",
    "\n",
    "pert_data_new.new_data_process(dataset_name = DATASET_NAME, adata = adata, skip_calc_de=True) # specific dataset name and adata object\n",
    "print(f\"Data processed and saved in {pert_data_new.data_path}\")\n",
    "pert_data_new.prepare_split(split = 'no_test', seed = 1) # get data split with seed\n",
    "print(f\"Data split with seed 1\")\n",
    "pert_data_new.get_dataloader(batch_size = 32, test_batch_size = 128) # prepare data loader\n",
    "print(f\"Data loader prepared\")\n"
   ]
  },
  {
   "cell_type": "code",
   "execution_count": 8,
   "metadata": {},
   "outputs": [
    {
     "name": "stderr",
     "output_type": "stream",
     "text": [
      "Downloading...\n",
      "100%|██████████| 60.7M/60.7M [00:02<00:00, 21.9MiB/s]\n",
      "Extracting tar file...\n",
      "Done!\n"
     ]
    },
    {
     "data": {
      "text/plain": [
       "{'hidden_size': 'hidden dimension, default 64',\n",
       " 'num_go_gnn_layers': 'number of GNN layers for GO graph, default 1',\n",
       " 'num_gene_gnn_layers': 'number of GNN layers for co-expression gene graph, default 1',\n",
       " 'decoder_hidden_size': 'hidden dimension for gene-specific decoder, default 16',\n",
       " 'num_similar_genes_go_graph': 'number of maximum similar K genes in the GO graph, default 20',\n",
       " 'num_similar_genes_co_express_graph': 'number of maximum similar K genes in the co expression graph, default 20',\n",
       " 'coexpress_threshold': 'pearson correlation threshold when constructing coexpression graph, default 0.4',\n",
       " 'uncertainty': 'whether or not to turn on uncertainty mode, default False',\n",
       " 'uncertainty_reg': 'regularization term to balance uncertainty loss and prediction loss, default 1',\n",
       " 'direction_lambda': 'regularization term to balance direction loss and prediction loss, default 1'}"
      ]
     },
     "execution_count": 8,
     "metadata": {},
     "output_type": "execute_result"
    }
   ],
   "source": [
    "\n",
    "gears_model = GEARS(pert_data_new, device = device, \n",
    "                        weight_bias_track = False, \n",
    "                        proj_name = 'pertnet_new', \n",
    "                        exp_name = 'pertnet_new')\n",
    "\n",
    "gears_model.model_initialize(hidden_size = 64)\n",
    "\n",
    "gears_model.tunable_parameters()\n",
    "\n",
    "\n"
   ]
  },
  {
   "cell_type": "code",
   "execution_count": 11,
   "metadata": {},
   "outputs": [
    {
     "data": {
      "text/plain": [
       "DataBatch(x=[160000, 1], y=[32, 5000], pert_idx=[32], de_idx=[32], pert=[32], batch=[160000], ptr=[33])"
      ]
     },
     "execution_count": 11,
     "metadata": {},
     "output_type": "execute_result"
    }
   ],
   "source": [
    "next(iter(gears_model.dataloader[\"train_loader\"]))"
   ]
  },
  {
   "cell_type": "code",
   "execution_count": 9,
   "metadata": {},
   "outputs": [
    {
     "name": "stderr",
     "output_type": "stream",
     "text": [
      "Start Training...\n"
     ]
    },
    {
     "name": "stdout",
     "output_type": "stream",
     "text": [
      "Training model\n",
      "Dataloader element: DataBatch(x=[274016, 1], y=[32, 8563], pert_idx=[32], de_idx=[32], pert=[32], batch=[274016], ptr=[33])\n"
     ]
    },
    {
     "name": "stderr",
     "output_type": "stream",
     "text": [
      "Epoch 1 Step 1 Train Loss: 0.4162\n",
      "Epoch 1 Step 51 Train Loss: 0.4048\n",
      "Epoch 1 Step 101 Train Loss: 0.5993\n",
      "Epoch 1 Step 151 Train Loss: 0.4136\n",
      "Epoch 1 Step 201 Train Loss: 0.9998\n",
      "Epoch 1 Step 251 Train Loss: 0.2500\n",
      "Epoch 1 Step 301 Train Loss: 0.5432\n",
      "Epoch 1 Step 351 Train Loss: 0.4378\n",
      "Epoch 1: Train Overall MSE: 0.0929 Validation Overall MSE: 0.0136. \n",
      "Train Top 20 DE MSE: 0.0892 Validation Top 20 DE MSE: 0.0104. \n",
      "Done!\n",
      "Done! No test dataloader detected.\n"
     ]
    }
   ],
   "source": [
    "\n",
    "print(f\"Training model\")\n",
    "gears_model.train(epochs = 1, lr = 1e-3)\n",
    "\n"
   ]
  },
  {
   "cell_type": "code",
   "execution_count": 10,
   "metadata": {},
   "outputs": [
    {
     "data": {
      "text/plain": [
       "'NAF1'"
      ]
     },
     "execution_count": 10,
     "metadata": {},
     "output_type": "execute_result"
    }
   ],
   "source": [
    "\n",
    "\n",
    "target = perts_original[0]\n",
    "target \n"
   ]
  },
  {
   "cell_type": "code",
   "execution_count": 13,
   "metadata": {},
   "outputs": [
    {
     "data": {
      "text/plain": [
       "array([0.04402415, 0.07868292, 0.8854413 , ..., 0.27767277, 0.10376503,\n",
       "       0.17194343], dtype=float32)"
      ]
     },
     "execution_count": 13,
     "metadata": {},
     "output_type": "execute_result"
    }
   ],
   "source": [
    "\n",
    "#GEARs returns bulk predictions, we transform those in single cell predictions\n",
    "bulk_pred = gears_model.predict([[target]])[target]\n",
    "bulk_pred\n"
   ]
  },
  {
   "cell_type": "code",
   "execution_count": 17,
   "metadata": {},
   "outputs": [],
   "source": [
    "def distribute_shift(ctrl_cells, mean_shift):\n",
    "    \"\"\"\n",
    "    Distribute the global per-gene difference (sum_diff[g]) across cells in proportion\n",
    "    to the cell's existing counts for that gene. \n",
    "    \"\"\" \n",
    "    ctrl_cells = ctrl_cells.copy()\n",
    "    sum_shift = (mean_shift * ctrl_cells.shape[0]).astype(int)\n",
    "\n",
    "    n_cells, n_genes = ctrl_cells.shape\n",
    "\n",
    "\n",
    "    #Its a matrix right now\n",
    "    sum_shift = np.squeeze(np.array(sum_shift))\n",
    "\n",
    "    #For each gene, distribute sum_diff[g] using a single multinomial draw\n",
    "    for g in range(n_genes):\n",
    "        diff = int(sum_shift[g])\n",
    "        if diff == 0:\n",
    "            continue  \n",
    "\n",
    "        # Current counts for this gene across cells\n",
    "        gene_counts = ctrl_cells[:, g].astype(np.float64)\n",
    "\n",
    "        current_total = gene_counts.sum().astype(np.float64)\n",
    "        \n",
    "\n",
    "        # Probabilities ~ gene_counts / current_total\n",
    "        p = gene_counts / current_total\n",
    "\n",
    "\n",
    "        if diff > 0:\n",
    "            # We want to add `diff` counts\n",
    "            draws = np.random.multinomial(diff, p)  # shape: (n_cells,)\n",
    "            \n",
    "            ctrl_cells[:, g] = gene_counts + draws\n",
    "        else:\n",
    "            if current_total <= 0:\n",
    "                continue\n",
    "\n",
    "            # We want to remove `abs(diff)` counts\n",
    "            amt_to_remove = abs(diff)\n",
    "\n",
    "            to_remove = min(amt_to_remove, current_total)\n",
    "            draws = np.random.multinomial(to_remove, p)\n",
    "            # Subtract, then clamp\n",
    "            updated = gene_counts - draws\n",
    "            updated[updated < 0] = 0\n",
    "            ctrl_cells[:, g] = updated\n",
    "\n",
    "    return ctrl_cells\n"
   ]
  },
  {
   "cell_type": "code",
   "execution_count": 18,
   "metadata": {},
   "outputs": [
    {
     "data": {
      "text/plain": [
       "array([0.04402415, 0.07868292, 0.8854413 , ..., 0.27767277, 0.10376503,\n",
       "       0.17194343], dtype=float32)"
      ]
     },
     "execution_count": 18,
     "metadata": {},
     "output_type": "execute_result"
    }
   ],
   "source": [
    "\n",
    "bulk_pred = np.array(bulk_pred)\n",
    "\n",
    "\n",
    "control_cells = adata[(adata.obs[dd.pert_key] == dd.control) & (adata.obs[dd.cell_key] == 'k562')].X.toarray()\n",
    "\n",
    "\n",
    "res = None\n",
    "\n",
    "res = distribute_shift(control_cells, bulk_pred)\n",
    "\n",
    "bulk_pred"
   ]
  },
  {
   "cell_type": "code",
   "execution_count": 19,
   "metadata": {},
   "outputs": [
    {
     "data": {
      "text/plain": [
       "array([[0.        , 0.        , 0.        , ..., 0.        , 0.        ,\n",
       "        0.        ],\n",
       "       [0.        , 0.        , 5.0600405 , ..., 1.6643586 , 0.        ,\n",
       "        1.6643586 ],\n",
       "       [0.        , 2.8014312 , 1.8014312 , ..., 0.        , 0.        ,\n",
       "        0.        ],\n",
       "       ...,\n",
       "       [0.        , 0.97451407, 2.4585588 , ..., 0.        , 0.        ,\n",
       "        0.        ],\n",
       "       [0.        , 0.        , 0.61097777, ..., 1.6109778 , 1.6109778 ,\n",
       "        0.        ],\n",
       "       [0.        , 0.        , 0.        , ..., 1.5291286 , 0.        ,\n",
       "        2.5291286 ]], dtype=float32)"
      ]
     },
     "execution_count": 19,
     "metadata": {},
     "output_type": "execute_result"
    }
   ],
   "source": [
    "res"
   ]
  },
  {
   "cell_type": "code",
   "execution_count": null,
   "metadata": {},
   "outputs": [],
   "source": []
  },
  {
   "cell_type": "code",
   "execution_count": null,
   "metadata": {},
   "outputs": [],
   "source": []
  }
 ],
 "metadata": {
  "kernelspec": {
   "display_name": "omnicell",
   "language": "python",
   "name": "python3"
  },
  "language_info": {
   "codemirror_mode": {
    "name": "ipython",
    "version": 3
   },
   "file_extension": ".py",
   "mimetype": "text/x-python",
   "name": "python",
   "nbconvert_exporter": "python",
   "pygments_lexer": "ipython3",
   "version": "3.9.21"
  }
 },
 "nbformat": 4,
 "nbformat_minor": 2
}
