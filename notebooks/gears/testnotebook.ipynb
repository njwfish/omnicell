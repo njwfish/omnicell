{
 "cells": [
  {
   "cell_type": "code",
   "execution_count": 3,
   "metadata": {},
   "outputs": [],
   "source": [
    "import sys\n",
    "import sys\n",
    "sys.path.append('../../')\n",
    "from omnicell.constants import *\n",
    "\n",
    "from omnicell.models.gears.gears import GEARS\n",
    "import omnicell.models.gears.pertdata as pertdata_new\n",
    "from omnicell.data.catalogue import Catalogue\n",
    "from omnicell.models.gears.pertdata import PertData\n",
    "from omnicell.data.catalogue import Catalogue\n",
    "from omnicell.models.gears.gears import GEARS\n",
    "import scanpy as sc\n",
    "import torch\n",
    "import numpy as np\n"
   ]
  },
  {
   "cell_type": "code",
   "execution_count": 4,
   "metadata": {},
   "outputs": [],
   "source": [
    "\n",
    "\n",
    "DATASET_NAME = 'repogle_k562_essential_raw'\n",
    "dd = Catalogue.get_dataset_details(DATASET_NAME)\n",
    "adata = sc.read(dd.path)\n",
    "\n",
    "\n",
    "\n",
    "\n"
   ]
  },
  {
   "cell_type": "code",
   "execution_count": 5,
   "metadata": {},
   "outputs": [],
   "source": [
    "\n",
    "adata.obs[\"condition\"] = adata.obs[dd.pert_key]\n",
    "adata.obs[\"cell_type\"] = adata.obs[dd.cell_key]\n",
    "perts = [p for p in adata.obs[\"condition\"].unique() if p != dd.control]\n",
    "adata.obs[\"condition\"] = adata.obs[\"condition\"].replace({dd.control:\"ctrl\"})\n",
    "adata.obs[\"condition\"] = adata.obs[\"condition\"].replace({p:p+\"+ctrl\" for p in perts})\n",
    "adata.var[\"gene_name\"] = adata.var_names\n",
    "\n",
    "\n"
   ]
  },
  {
   "cell_type": "code",
   "execution_count": 6,
   "metadata": {},
   "outputs": [
    {
     "name": "stdout",
     "output_type": "stream",
     "text": [
      "Data loaded from /orcd/data/omarabu/001/Omnicell_datasets/repogle_k562_essential_raw/K562_essential_raw_singlecell_01.h5ad\n",
      "Data normalized and log transformed\n"
     ]
    }
   ],
   "source": [
    "\n",
    "\n",
    "\n",
    "print(f\"Data loaded from {dd.path}\")\n",
    "sc.pp.normalize_total(adata)\n",
    "sc.pp.log1p(adata)\n",
    "print(f\"Data normalized and log transformed\")\n",
    "\n",
    "device = 'cuda' if torch.cuda.is_available() else 'cpu'\n",
    "\n"
   ]
  },
  {
   "cell_type": "code",
   "execution_count": null,
   "metadata": {},
   "outputs": [],
   "source": [
    "\n",
    "\n",
    "pert_data = pertdata_old.PertData('./data') # specific saved folder\n",
    "print(f\"Saving data in ./data\")\n",
    "\n",
    "pert_data.new_data_process(dataset_name = DATASET_NAME, adata = adata, skip_calc_de=False) # specific dataset name and adata object\n",
    "print(f\"Data processed and saved in {pert_data.data_path}\")\n",
    "pert_data.prepare_split(split = 'no_test', seed = 1) # get data split with seed\n",
    "print(f\"Data split with seed 1\")\n",
    "pert_data.get_dataloader(batch_size = 32, test_batch_size = 128) # prepare data loader\n",
    "print(f\"Data loader prepared\")\n"
   ]
  },
  {
   "cell_type": "code",
   "execution_count": null,
   "metadata": {},
   "outputs": [],
   "source": [
    "\n",
    "\n",
    "\n",
    "gears_model = GEARS(pert_data, device = device, \n",
    "                        weight_bias_track = False, \n",
    "                        proj_name = 'pertnet', \n",
    "                        exp_name = 'pertnet')\n",
    "\n",
    "gears_model.model_initialize(hidden_size = 64)\n",
    "\n",
    "gears_model.tunable_parameters()\n",
    "\n"
   ]
  },
  {
   "cell_type": "code",
   "execution_count": null,
   "metadata": {},
   "outputs": [],
   "source": [
    "\n",
    "print(f\"Training model\")\n",
    "gears_model.train(epochs = 1, lr = 1e-3)\n",
    "\n",
    "\n",
    "gears_model.save_model('test_model')\n",
    "gears_model.load_pretrained('test_model')\n",
    "\n",
    "\n",
    "res = gears_model.predict([['RPL15']])\n",
    "\n",
    "np.savez('res.npz', res)\n",
    "\n"
   ]
  },
  {
   "cell_type": "code",
   "execution_count": 7,
   "metadata": {},
   "outputs": [
    {
     "name": "stderr",
     "output_type": "stream",
     "text": [
      "Downloading...\n",
      "100%|██████████| 9.46M/9.46M [00:00<00:00, 17.6MiB/s]\n"
     ]
    },
    {
     "name": "stdout",
     "output_type": "stream",
     "text": [
      "Saving data in ./data\n",
      "Starting new data processing for repogle_k562_essential_raw\n",
      "Getting DE Genes\n",
      "Got DE genes for repogle_k562_essential_raw: 3.50 seconds\n"
     ]
    },
    {
     "name": "stderr",
     "output_type": "stream",
     "text": [
      "Downloading...\n",
      "100%|██████████| 559k/559k [00:00<00:00, 2.00MiB/s]\n"
     ]
    },
    {
     "name": "stdout",
     "output_type": "stream",
     "text": [
      "Test\n",
      "Creating pyg object for each cell in the data...\n",
      "Creating dataset file...\n"
     ]
    },
    {
     "name": "stderr",
     "output_type": "stream",
     "text": [
      "  0%|          | 1/2058 [00:02<1:33:01,  2.71s/it]"
     ]
    },
    {
     "name": "stdout",
     "output_type": "stream",
     "text": [
      "Creating 94 cell graphs for NAF1+ctrl: 0.00 seconds\n",
      "create_cell_graph_dataset call duration: NAF1+ctrl: 2.71 seconds\n"
     ]
    },
    {
     "name": "stderr",
     "output_type": "stream",
     "text": [
      "  0%|          | 2/2058 [00:05<1:41:41,  2.97s/it]"
     ]
    },
    {
     "name": "stdout",
     "output_type": "stream",
     "text": [
      "Creating 648 cell graphs for BUB1+ctrl: 0.01 seconds\n",
      "create_cell_graph_dataset call duration: BUB1+ctrl: 3.15 seconds\n"
     ]
    },
    {
     "name": "stderr",
     "output_type": "stream",
     "text": [
      "  0%|          | 3/2058 [00:08<1:41:50,  2.97s/it]"
     ]
    },
    {
     "name": "stdout",
     "output_type": "stream",
     "text": [
      "Creating 232 cell graphs for UBL5+ctrl: 0.01 seconds\n",
      "create_cell_graph_dataset call duration: UBL5+ctrl: 2.98 seconds\n"
     ]
    },
    {
     "name": "stderr",
     "output_type": "stream",
     "text": [
      "  0%|          | 4/2058 [00:11<1:40:05,  2.92s/it]"
     ]
    },
    {
     "name": "stdout",
     "output_type": "stream",
     "text": [
      "Creating 212 cell graphs for C9orf16+ctrl: 0.00 seconds\n",
      "create_cell_graph_dataset call duration: C9orf16+ctrl: 2.85 seconds\n"
     ]
    },
    {
     "name": "stderr",
     "output_type": "stream",
     "text": [
      "  0%|          | 5/2058 [00:14<1:38:12,  2.87s/it]"
     ]
    },
    {
     "name": "stdout",
     "output_type": "stream",
     "text": [
      "Creating 201 cell graphs for TIMM9+ctrl: 0.00 seconds\n",
      "create_cell_graph_dataset call duration: TIMM9+ctrl: 2.77 seconds\n"
     ]
    },
    {
     "name": "stderr",
     "output_type": "stream",
     "text": [
      "  0%|          | 6/2058 [00:17<1:36:31,  2.82s/it]"
     ]
    },
    {
     "name": "stdout",
     "output_type": "stream",
     "text": [
      "Creating 83 cell graphs for SMG5+ctrl: 0.00 seconds\n",
      "create_cell_graph_dataset call duration: SMG5+ctrl: 2.73 seconds\n"
     ]
    },
    {
     "name": "stderr",
     "output_type": "stream",
     "text": [
      "  0%|          | 7/2058 [00:20<1:36:39,  2.83s/it]"
     ]
    },
    {
     "name": "stdout",
     "output_type": "stream",
     "text": [
      "Creating 205 cell graphs for ZNF687+ctrl: 0.01 seconds\n",
      "create_cell_graph_dataset call duration: ZNF687+ctrl: 2.84 seconds\n"
     ]
    },
    {
     "name": "stderr",
     "output_type": "stream",
     "text": [
      "  0%|          | 8/2058 [00:22<1:35:14,  2.79s/it]"
     ]
    },
    {
     "name": "stdout",
     "output_type": "stream",
     "text": [
      "Creating 119 cell graphs for MED9+ctrl: 0.00 seconds\n",
      "create_cell_graph_dataset call duration: MED9+ctrl: 2.70 seconds\n"
     ]
    },
    {
     "name": "stderr",
     "output_type": "stream",
     "text": [
      "  0%|          | 9/2058 [00:26<1:50:48,  3.24s/it]"
     ]
    },
    {
     "name": "stdout",
     "output_type": "stream",
     "text": [
      "Creating 1996 cell graphs for RPL3+ctrl: 0.33 seconds\n",
      "create_cell_graph_dataset call duration: RPL3+ctrl: 4.25 seconds\n"
     ]
    },
    {
     "name": "stderr",
     "output_type": "stream",
     "text": [
      "  0%|          | 9/2058 [00:28<1:48:02,  3.16s/it]\n"
     ]
    },
    {
     "ename": "KeyboardInterrupt",
     "evalue": "",
     "output_type": "error",
     "traceback": [
      "\u001b[0;31m---------------------------------------------------------------------------\u001b[0m",
      "\u001b[0;31mKeyboardInterrupt\u001b[0m                         Traceback (most recent call last)",
      "Cell \u001b[0;32mIn[7], line 6\u001b[0m\n\u001b[1;32m      1\u001b[0m pert_data_new \u001b[38;5;241m=\u001b[39m pertdata_new\u001b[38;5;241m.\u001b[39mPertData(\u001b[38;5;124m'\u001b[39m\u001b[38;5;124m./data_new\u001b[39m\u001b[38;5;124m'\u001b[39m) \u001b[38;5;66;03m# specific saved folder\u001b[39;00m\n\u001b[1;32m      4\u001b[0m \u001b[38;5;28mprint\u001b[39m(\u001b[38;5;124mf\u001b[39m\u001b[38;5;124m\"\u001b[39m\u001b[38;5;124mSaving data in ./data\u001b[39m\u001b[38;5;124m\"\u001b[39m)\n\u001b[0;32m----> 6\u001b[0m \u001b[43mpert_data_new\u001b[49m\u001b[38;5;241;43m.\u001b[39;49m\u001b[43mnew_data_process\u001b[49m\u001b[43m(\u001b[49m\u001b[43mdataset_name\u001b[49m\u001b[43m \u001b[49m\u001b[38;5;241;43m=\u001b[39;49m\u001b[43m \u001b[49m\u001b[43mDATASET_NAME\u001b[49m\u001b[43m,\u001b[49m\u001b[43m \u001b[49m\u001b[43madata\u001b[49m\u001b[43m \u001b[49m\u001b[38;5;241;43m=\u001b[39;49m\u001b[43m \u001b[49m\u001b[43madata\u001b[49m\u001b[43m,\u001b[49m\u001b[43m \u001b[49m\u001b[43mskip_calc_de\u001b[49m\u001b[38;5;241;43m=\u001b[39;49m\u001b[38;5;28;43;01mTrue\u001b[39;49;00m\u001b[43m)\u001b[49m \u001b[38;5;66;03m# specific dataset name and adata object\u001b[39;00m\n\u001b[1;32m      7\u001b[0m \u001b[38;5;28mprint\u001b[39m(\u001b[38;5;124mf\u001b[39m\u001b[38;5;124m\"\u001b[39m\u001b[38;5;124mData processed and saved in \u001b[39m\u001b[38;5;132;01m{\u001b[39;00mpert_data_new\u001b[38;5;241m.\u001b[39mdata_path\u001b[38;5;132;01m}\u001b[39;00m\u001b[38;5;124m\"\u001b[39m)\n\u001b[1;32m      8\u001b[0m pert_data_new\u001b[38;5;241m.\u001b[39mprepare_split(split \u001b[38;5;241m=\u001b[39m \u001b[38;5;124m'\u001b[39m\u001b[38;5;124mno_test\u001b[39m\u001b[38;5;124m'\u001b[39m, seed \u001b[38;5;241m=\u001b[39m \u001b[38;5;241m1\u001b[39m) \u001b[38;5;66;03m# get data split with seed\u001b[39;00m\n",
      "File \u001b[0;32m/orcd/data/omarabu/001/opitcho/omnicell/notebooks/gears/../../omnicell/models/gears/pertdata.py:280\u001b[0m, in \u001b[0;36mPertData.new_data_process\u001b[0;34m(self, dataset_name, adata, skip_calc_de)\u001b[0m\n\u001b[1;32m    278\u001b[0m \u001b[38;5;28mprint\u001b[39m(\u001b[38;5;124mf\u001b[39m\u001b[38;5;124m\"\u001b[39m\u001b[38;5;124mTest\u001b[39m\u001b[38;5;124m\"\u001b[39m)\n\u001b[1;32m    279\u001b[0m \u001b[38;5;28mprint\u001b[39m(\u001b[38;5;124m\"\u001b[39m\u001b[38;5;124mCreating pyg object for each cell in the data...\u001b[39m\u001b[38;5;124m\"\u001b[39m)\n\u001b[0;32m--> 280\u001b[0m \u001b[38;5;28;43mself\u001b[39;49m\u001b[38;5;241;43m.\u001b[39;49m\u001b[43mcreate_dataset_file\u001b[49m\u001b[43m(\u001b[49m\u001b[43m)\u001b[49m\n\u001b[1;32m    281\u001b[0m \u001b[38;5;28mprint\u001b[39m(\u001b[38;5;124m\"\u001b[39m\u001b[38;5;124mSaving new dataset pyg object at \u001b[39m\u001b[38;5;124m\"\u001b[39m \u001b[38;5;241m+\u001b[39m dataset_fname) \n\u001b[1;32m    282\u001b[0m pickle\u001b[38;5;241m.\u001b[39mdump(\u001b[38;5;28mself\u001b[39m\u001b[38;5;241m.\u001b[39mdataset_processed, \u001b[38;5;28mopen\u001b[39m(dataset_fname, \u001b[38;5;124m\"\u001b[39m\u001b[38;5;124mwb\u001b[39m\u001b[38;5;124m\"\u001b[39m))    \n",
      "File \u001b[0;32m/orcd/data/omarabu/001/opitcho/omnicell/notebooks/gears/../../omnicell/models/gears/pertdata.py:634\u001b[0m, in \u001b[0;36mPertData.create_dataset_file\u001b[0;34m(self)\u001b[0m\n\u001b[1;32m    632\u001b[0m \u001b[38;5;28mself\u001b[39m\u001b[38;5;241m.\u001b[39mdataset_processed \u001b[38;5;241m=\u001b[39m {}\n\u001b[1;32m    633\u001b[0m \u001b[38;5;28;01mfor\u001b[39;00m p \u001b[38;5;129;01min\u001b[39;00m tqdm(\u001b[38;5;28mself\u001b[39m\u001b[38;5;241m.\u001b[39madata\u001b[38;5;241m.\u001b[39mobs[\u001b[38;5;124m'\u001b[39m\u001b[38;5;124mcondition\u001b[39m\u001b[38;5;124m'\u001b[39m]\u001b[38;5;241m.\u001b[39munique()):\n\u001b[0;32m--> 634\u001b[0m     \u001b[38;5;28mself\u001b[39m\u001b[38;5;241m.\u001b[39mdataset_processed[p] \u001b[38;5;241m=\u001b[39m \u001b[38;5;28;43mself\u001b[39;49m\u001b[38;5;241;43m.\u001b[39;49m\u001b[43mcreate_cell_graph_dataset\u001b[49m\u001b[43m(\u001b[49m\u001b[38;5;28;43mself\u001b[39;49m\u001b[38;5;241;43m.\u001b[39;49m\u001b[43madata\u001b[49m\u001b[43m,\u001b[49m\u001b[43m \u001b[49m\u001b[43mp\u001b[49m\u001b[43m)\u001b[49m\n\u001b[1;32m    635\u001b[0m \u001b[38;5;28mprint\u001b[39m(\u001b[38;5;124m\"\u001b[39m\u001b[38;5;124mDone!\u001b[39m\u001b[38;5;124m\"\u001b[39m)\n",
      "File \u001b[0;32m/orcd/data/omarabu/001/opitcho/omnicell/notebooks/gears/../../omnicell/models/gears/pertdata.py:600\u001b[0m, in \u001b[0;36mPertData.create_cell_graph_dataset\u001b[0;34m(self, split_adata, pert_category, num_samples)\u001b[0m\n\u001b[1;32m    598\u001b[0m n_cells \u001b[38;5;241m=\u001b[39m adata_\u001b[38;5;241m.\u001b[39mshape[\u001b[38;5;241m0\u001b[39m]\n\u001b[1;32m    599\u001b[0m ctrl_indices \u001b[38;5;241m=\u001b[39m np\u001b[38;5;241m.\u001b[39mrandom\u001b[38;5;241m.\u001b[39mrandint(\u001b[38;5;241m0\u001b[39m, \u001b[38;5;28mlen\u001b[39m(\u001b[38;5;28mself\u001b[39m\u001b[38;5;241m.\u001b[39mctrl_adata), n_cells)\n\u001b[0;32m--> 600\u001b[0m ctrl_data \u001b[38;5;241m=\u001b[39m process_data(\u001b[38;5;28;43mself\u001b[39;49m\u001b[38;5;241;43m.\u001b[39;49m\u001b[43mctrl_adata\u001b[49m\u001b[43m[\u001b[49m\u001b[43mctrl_indices\u001b[49m\u001b[43m,\u001b[49m\u001b[43m \u001b[49m\u001b[43m:\u001b[49m\u001b[43m]\u001b[49m\u001b[38;5;241;43m.\u001b[39;49m\u001b[43mX\u001b[49m)\n\u001b[1;32m    602\u001b[0m \u001b[38;5;66;03m# Direct array processing\u001b[39;00m\n\u001b[1;32m    603\u001b[0m Xs \u001b[38;5;241m=\u001b[39m \u001b[38;5;28mlist\u001b[39m(ctrl_data)\n",
      "File \u001b[0;32m/orcd/data/omarabu/001/opitcho/miniforge3/envs/omnicell/lib/python3.9/site-packages/anndata/_core/anndata.py:562\u001b[0m, in \u001b[0;36mAnnData.X\u001b[0;34m(self)\u001b[0m\n\u001b[1;32m    559\u001b[0m     X \u001b[38;5;241m=\u001b[39m \u001b[38;5;28;01mNone\u001b[39;00m\n\u001b[1;32m    560\u001b[0m \u001b[38;5;28;01melif\u001b[39;00m \u001b[38;5;28mself\u001b[39m\u001b[38;5;241m.\u001b[39mis_view:\n\u001b[1;32m    561\u001b[0m     X \u001b[38;5;241m=\u001b[39m as_view(\n\u001b[0;32m--> 562\u001b[0m         \u001b[43m_subset\u001b[49m\u001b[43m(\u001b[49m\u001b[38;5;28;43mself\u001b[39;49m\u001b[38;5;241;43m.\u001b[39;49m\u001b[43m_adata_ref\u001b[49m\u001b[38;5;241;43m.\u001b[39;49m\u001b[43mX\u001b[49m\u001b[43m,\u001b[49m\u001b[43m \u001b[49m\u001b[43m(\u001b[49m\u001b[38;5;28;43mself\u001b[39;49m\u001b[38;5;241;43m.\u001b[39;49m\u001b[43m_oidx\u001b[49m\u001b[43m,\u001b[49m\u001b[43m \u001b[49m\u001b[38;5;28;43mself\u001b[39;49m\u001b[38;5;241;43m.\u001b[39;49m\u001b[43m_vidx\u001b[49m\u001b[43m)\u001b[49m\u001b[43m)\u001b[49m,\n\u001b[1;32m    563\u001b[0m         ElementRef(\u001b[38;5;28mself\u001b[39m, \u001b[38;5;124m\"\u001b[39m\u001b[38;5;124mX\u001b[39m\u001b[38;5;124m\"\u001b[39m),\n\u001b[1;32m    564\u001b[0m     )\n\u001b[1;32m    565\u001b[0m \u001b[38;5;28;01melse\u001b[39;00m:\n\u001b[1;32m    566\u001b[0m     X \u001b[38;5;241m=\u001b[39m \u001b[38;5;28mself\u001b[39m\u001b[38;5;241m.\u001b[39m_X\n",
      "File \u001b[0;32m/orcd/data/omarabu/001/opitcho/miniforge3/envs/omnicell/lib/python3.9/functools.py:888\u001b[0m, in \u001b[0;36msingledispatch.<locals>.wrapper\u001b[0;34m(*args, **kw)\u001b[0m\n\u001b[1;32m    884\u001b[0m \u001b[38;5;28;01mif\u001b[39;00m \u001b[38;5;129;01mnot\u001b[39;00m args:\n\u001b[1;32m    885\u001b[0m     \u001b[38;5;28;01mraise\u001b[39;00m \u001b[38;5;167;01mTypeError\u001b[39;00m(\u001b[38;5;124mf\u001b[39m\u001b[38;5;124m'\u001b[39m\u001b[38;5;132;01m{\u001b[39;00mfuncname\u001b[38;5;132;01m}\u001b[39;00m\u001b[38;5;124m requires at least \u001b[39m\u001b[38;5;124m'\u001b[39m\n\u001b[1;32m    886\u001b[0m                     \u001b[38;5;124m'\u001b[39m\u001b[38;5;124m1 positional argument\u001b[39m\u001b[38;5;124m'\u001b[39m)\n\u001b[0;32m--> 888\u001b[0m \u001b[38;5;28;01mreturn\u001b[39;00m \u001b[43mdispatch\u001b[49m\u001b[43m(\u001b[49m\u001b[43margs\u001b[49m\u001b[43m[\u001b[49m\u001b[38;5;241;43m0\u001b[39;49m\u001b[43m]\u001b[49m\u001b[38;5;241;43m.\u001b[39;49m\u001b[38;5;18;43m__class__\u001b[39;49m\u001b[43m)\u001b[49m\u001b[43m(\u001b[49m\u001b[38;5;241;43m*\u001b[39;49m\u001b[43margs\u001b[49m\u001b[43m,\u001b[49m\u001b[43m \u001b[49m\u001b[38;5;241;43m*\u001b[39;49m\u001b[38;5;241;43m*\u001b[39;49m\u001b[43mkw\u001b[49m\u001b[43m)\u001b[49m\n",
      "File \u001b[0;32m/orcd/data/omarabu/001/opitcho/miniforge3/envs/omnicell/lib/python3.9/site-packages/anndata/_core/index.py:168\u001b[0m, in \u001b[0;36m_subset_spmatrix\u001b[0;34m(a, subset_idx)\u001b[0m\n\u001b[1;32m    166\u001b[0m         first_idx \u001b[38;5;241m=\u001b[39m np\u001b[38;5;241m.\u001b[39mwhere(first_idx)[\u001b[38;5;241m0\u001b[39m]\n\u001b[1;32m    167\u001b[0m     subset_idx \u001b[38;5;241m=\u001b[39m (first_idx\u001b[38;5;241m.\u001b[39mreshape(\u001b[38;5;241m-\u001b[39m\u001b[38;5;241m1\u001b[39m, \u001b[38;5;241m1\u001b[39m), \u001b[38;5;241m*\u001b[39msubset_idx[\u001b[38;5;241m1\u001b[39m:])\n\u001b[0;32m--> 168\u001b[0m \u001b[38;5;28;01mreturn\u001b[39;00m \u001b[43ma\u001b[49m\u001b[43m[\u001b[49m\u001b[43msubset_idx\u001b[49m\u001b[43m]\u001b[49m\n",
      "File \u001b[0;32m/orcd/data/omarabu/001/opitcho/miniforge3/envs/omnicell/lib/python3.9/site-packages/scipy/sparse/_index.py:83\u001b[0m, in \u001b[0;36mIndexMixin.__getitem__\u001b[0;34m(self, key)\u001b[0m\n\u001b[1;32m     81\u001b[0m         \u001b[38;5;28;01mreturn\u001b[39;00m \u001b[38;5;28mself\u001b[39m\u001b[38;5;241m.\u001b[39m_get_arrayXint(row, col)\n\u001b[1;32m     82\u001b[0m     \u001b[38;5;28;01melif\u001b[39;00m \u001b[38;5;28misinstance\u001b[39m(col, \u001b[38;5;28mslice\u001b[39m):\n\u001b[0;32m---> 83\u001b[0m         \u001b[38;5;28;01mreturn\u001b[39;00m \u001b[38;5;28;43mself\u001b[39;49m\u001b[38;5;241;43m.\u001b[39;49m\u001b[43m_get_arrayXslice\u001b[49m\u001b[43m(\u001b[49m\u001b[43mrow\u001b[49m\u001b[43m,\u001b[49m\u001b[43m \u001b[49m\u001b[43mcol\u001b[49m\u001b[43m)\u001b[49m\n\u001b[1;32m     84\u001b[0m \u001b[38;5;28;01melse\u001b[39;00m:  \u001b[38;5;66;03m# row.ndim == 2\u001b[39;00m\n\u001b[1;32m     85\u001b[0m     \u001b[38;5;28;01mif\u001b[39;00m \u001b[38;5;28misinstance\u001b[39m(col, INT_TYPES):\n",
      "File \u001b[0;32m/orcd/data/omarabu/001/opitcho/miniforge3/envs/omnicell/lib/python3.9/site-packages/scipy/sparse/_csc.py:138\u001b[0m, in \u001b[0;36m_csc_base._get_arrayXslice\u001b[0;34m(self, row, col)\u001b[0m\n\u001b[1;32m    137\u001b[0m \u001b[38;5;28;01mdef\u001b[39;00m \u001b[38;5;21m_get_arrayXslice\u001b[39m(\u001b[38;5;28mself\u001b[39m, row, col):\n\u001b[0;32m--> 138\u001b[0m     \u001b[38;5;28;01mreturn\u001b[39;00m \u001b[38;5;28;43mself\u001b[39;49m\u001b[38;5;241;43m.\u001b[39;49m\u001b[43m_major_slice\u001b[49m\u001b[43m(\u001b[49m\u001b[43mcol\u001b[49m\u001b[43m)\u001b[49m\u001b[38;5;241;43m.\u001b[39;49m\u001b[43m_minor_index_fancy\u001b[49m\u001b[43m(\u001b[49m\u001b[43mrow\u001b[49m\u001b[43m)\u001b[49m\n",
      "File \u001b[0;32m/orcd/data/omarabu/001/opitcho/miniforge3/envs/omnicell/lib/python3.9/site-packages/scipy/sparse/_compressed.py:797\u001b[0m, in \u001b[0;36m_cs_matrix._minor_index_fancy\u001b[0;34m(self, idx)\u001b[0m\n\u001b[1;32m    795\u001b[0m res_indices \u001b[38;5;241m=\u001b[39m np\u001b[38;5;241m.\u001b[39mempty(nnz, dtype\u001b[38;5;241m=\u001b[39midx_dtype)\n\u001b[1;32m    796\u001b[0m res_data \u001b[38;5;241m=\u001b[39m np\u001b[38;5;241m.\u001b[39mempty(nnz, dtype\u001b[38;5;241m=\u001b[39m\u001b[38;5;28mself\u001b[39m\u001b[38;5;241m.\u001b[39mdtype)\n\u001b[0;32m--> 797\u001b[0m \u001b[43mcsr_column_index2\u001b[49m\u001b[43m(\u001b[49m\u001b[43mcol_order\u001b[49m\u001b[43m,\u001b[49m\u001b[43m \u001b[49m\u001b[43mcol_offsets\u001b[49m\u001b[43m,\u001b[49m\u001b[43m \u001b[49m\u001b[38;5;28;43mlen\u001b[39;49m\u001b[43m(\u001b[49m\u001b[38;5;28;43mself\u001b[39;49m\u001b[38;5;241;43m.\u001b[39;49m\u001b[43mindices\u001b[49m\u001b[43m)\u001b[49m\u001b[43m,\u001b[49m\n\u001b[1;32m    798\u001b[0m \u001b[43m                  \u001b[49m\u001b[43mindices\u001b[49m\u001b[43m,\u001b[49m\u001b[43m \u001b[49m\u001b[38;5;28;43mself\u001b[39;49m\u001b[38;5;241;43m.\u001b[39;49m\u001b[43mdata\u001b[49m\u001b[43m,\u001b[49m\u001b[43m \u001b[49m\u001b[43mres_indices\u001b[49m\u001b[43m,\u001b[49m\u001b[43m \u001b[49m\u001b[43mres_data\u001b[49m\u001b[43m)\u001b[49m\n\u001b[1;32m    799\u001b[0m \u001b[38;5;28;01mreturn\u001b[39;00m \u001b[38;5;28mself\u001b[39m\u001b[38;5;241m.\u001b[39m\u001b[38;5;18m__class__\u001b[39m((res_data, res_indices, res_indptr),\n\u001b[1;32m    800\u001b[0m                       shape\u001b[38;5;241m=\u001b[39mnew_shape, copy\u001b[38;5;241m=\u001b[39m\u001b[38;5;28;01mFalse\u001b[39;00m)\n",
      "\u001b[0;31mKeyboardInterrupt\u001b[0m: "
     ]
    }
   ],
   "source": [
    "pert_data_new = pertdata_new.PertData('./data_new') # specific saved folder\n",
    "\n",
    "\n",
    "print(f\"Saving data in ./data\")\n",
    "\n",
    "pert_data_new.new_data_process(dataset_name = DATASET_NAME, adata = adata, skip_calc_de=True) # specific dataset name and adata object\n",
    "print(f\"Data processed and saved in {pert_data_new.data_path}\")\n",
    "pert_data_new.prepare_split(split = 'no_test', seed = 1) # get data split with seed\n",
    "print(f\"Data split with seed 1\")\n",
    "pert_data_new.get_dataloader(batch_size = 32, test_batch_size = 128) # prepare data loader\n",
    "print(f\"Data loader prepared\")\n"
   ]
  },
  {
   "cell_type": "code",
   "execution_count": 10,
   "metadata": {},
   "outputs": [
    {
     "name": "stderr",
     "output_type": "stream",
     "text": [
      "Downloading...\n",
      "100%|██████████| 60.7M/60.7M [00:28<00:00, 2.10MiB/s]\n",
      "Extracting tar file...\n",
      "Done!\n"
     ]
    },
    {
     "data": {
      "text/plain": [
       "{'hidden_size': 'hidden dimension, default 64',\n",
       " 'num_go_gnn_layers': 'number of GNN layers for GO graph, default 1',\n",
       " 'num_gene_gnn_layers': 'number of GNN layers for co-expression gene graph, default 1',\n",
       " 'decoder_hidden_size': 'hidden dimension for gene-specific decoder, default 16',\n",
       " 'num_similar_genes_go_graph': 'number of maximum similar K genes in the GO graph, default 20',\n",
       " 'num_similar_genes_co_express_graph': 'number of maximum similar K genes in the co expression graph, default 20',\n",
       " 'coexpress_threshold': 'pearson correlation threshold when constructing coexpression graph, default 0.4',\n",
       " 'uncertainty': 'whether or not to turn on uncertainty mode, default False',\n",
       " 'uncertainty_reg': 'regularization term to balance uncertainty loss and prediction loss, default 1',\n",
       " 'direction_lambda': 'regularization term to balance direction loss and prediction loss, default 1'}"
      ]
     },
     "execution_count": 10,
     "metadata": {},
     "output_type": "execute_result"
    }
   ],
   "source": [
    "\n",
    "gears_model = GEARS(pert_data_new, device = device, \n",
    "                        weight_bias_track = False, \n",
    "                        proj_name = 'pertnet_new', \n",
    "                        exp_name = 'pertnet_new')\n",
    "\n",
    "gears_model.model_initialize(hidden_size = 64)\n",
    "\n",
    "gears_model.tunable_parameters()\n",
    "\n",
    "\n"
   ]
  },
  {
   "cell_type": "code",
   "execution_count": 11,
   "metadata": {},
   "outputs": [
    {
     "data": {
      "text/plain": [
       "DataBatch(x=[160000, 1], y=[32, 5000], pert_idx=[32], de_idx=[32], pert=[32], batch=[160000], ptr=[33])"
      ]
     },
     "execution_count": 11,
     "metadata": {},
     "output_type": "execute_result"
    }
   ],
   "source": [
    "next(iter(gears_model.dataloader[\"train_loader\"]))"
   ]
  },
  {
   "cell_type": "code",
   "execution_count": 12,
   "metadata": {},
   "outputs": [
    {
     "name": "stderr",
     "output_type": "stream",
     "text": [
      "Start Training...\n",
      "Epoch 1 Step 1 Train Loss: 0.2994\n"
     ]
    },
    {
     "name": "stdout",
     "output_type": "stream",
     "text": [
      "Training model\n",
      "Dataloader element: DataBatch(x=[160000, 1], y=[32, 5000], pert_idx=[32], de_idx=[32], pert=[32], batch=[160000], ptr=[33])\n"
     ]
    },
    {
     "name": "stderr",
     "output_type": "stream",
     "text": [
      "Epoch 1 Step 51 Train Loss: 0.3393\n",
      "Epoch 1 Step 101 Train Loss: 0.3529\n",
      "Epoch 1 Step 151 Train Loss: 0.3464\n",
      "Epoch 1: Train Overall MSE: 0.0013 Validation Overall MSE: 0.0005. \n",
      "Train Top 20 DE MSE: 0.0299 Validation Top 20 DE MSE: 0.0026. \n",
      "Done!\n",
      "Done! No test dataloader detected.\n"
     ]
    }
   ],
   "source": [
    "\n",
    "print(f\"Training model\")\n",
    "gears_model.train(epochs = 1, lr = 1e-3)\n",
    "\n",
    "\n",
    "\n",
    "\n",
    "gears_model.save_model('test_model')\n",
    "gears_model.load_pretrained('test_model')\n",
    "\n",
    "\n",
    "res = gears_model.predict([['RPL15']])\n",
    "\n",
    "np.savez('res.npz', res)\n"
   ]
  },
  {
   "cell_type": "code",
   "execution_count": 13,
   "metadata": {},
   "outputs": [
    {
     "data": {
      "text/plain": [
       "{'RPL15': array([ 0.25589207, -0.0418413 ,  0.08747627, ..., -0.00059464,\n",
       "         0.00094366, -0.00029467], dtype=float32)}"
      ]
     },
     "execution_count": 13,
     "metadata": {},
     "output_type": "execute_result"
    }
   ],
   "source": [
    "res"
   ]
  },
  {
   "cell_type": "code",
   "execution_count": null,
   "metadata": {},
   "outputs": [],
   "source": []
  },
  {
   "cell_type": "code",
   "execution_count": null,
   "metadata": {},
   "outputs": [],
   "source": []
  }
 ],
 "metadata": {
  "kernelspec": {
   "display_name": "omnicell",
   "language": "python",
   "name": "python3"
  },
  "language_info": {
   "codemirror_mode": {
    "name": "ipython",
    "version": 3
   },
   "file_extension": ".py",
   "mimetype": "text/x-python",
   "name": "python",
   "nbconvert_exporter": "python",
   "pygments_lexer": "ipython3",
   "version": "3.9.21"
  }
 },
 "nbformat": 4,
 "nbformat_minor": 2
}
