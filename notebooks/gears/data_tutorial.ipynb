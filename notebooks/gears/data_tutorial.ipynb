{
 "cells": [
  {
   "cell_type": "markdown",
   "metadata": {},
   "source": [
    "## (1) Load Processed Data in the Paper\n",
    "\n",
    "Currently, we support norman / adamson / dixit."
   ]
  },
  {
   "cell_type": "code",
   "execution_count": 3,
   "id": "7bce2d84",
   "metadata": {},
   "outputs": [],
   "source": [
    "import sys\n",
    "sys.path.append('../../')\n",
    "\n",
    "from omnicell.models.gears.pertdata import PertData\n",
    "from omnicell.data.catalogue import Catalogue\n"
   ]
  },
  {
   "cell_type": "code",
   "execution_count": null,
   "id": "c2737dcb",
   "metadata": {},
   "outputs": [],
   "source": [
    "\n"
   ]
  },
  {
   "cell_type": "markdown",
   "id": "4e91ac9e",
   "metadata": {},
   "source": [
    "## (2) Create your own Perturb-Seq data\n",
    "Prepare a scanpy adata object with \n",
    "1. `adata.obs` dataframe has `condition` and `cell_type` columns, where `condition` is the perturbation name for each cell. Control cells have condition format of `ctrl`, single perturbation has condition format of `A+ctrl` or `ctrl+A`, combination perturbation has condition format of `A+B`.\n",
    "2. `adata.var` dataframe has `gene_name` column, where each gene name is the gene symbol.\n",
    "3. `adata.X` stores the post-perturbed gene expression. \n",
    "\n",
    "Here an example using dixit 2016 dataset."
   ]
  },
  {
   "cell_type": "code",
   "execution_count": null,
   "id": "ea020156",
   "metadata": {},
   "outputs": [],
   "source": [
    "import scanpy as sc\n",
    "dd = Catalogue.get_dataset_details('repogle_k562_essential_raw')\n",
    "adata = sc.read(dd.path)\n",
    "adata"
   ]
  },
  {
   "cell_type": "code",
   "execution_count": 5,
   "id": "425f02ae",
   "metadata": {},
   "outputs": [],
   "source": [
    "adata.obs[\"condition\"] = adata.obs[\"gene\"]\n"
   ]
  },
  {
   "cell_type": "code",
   "execution_count": 6,
   "id": "9678f7f9",
   "metadata": {},
   "outputs": [],
   "source": [
    "#We relabel NT as ctrl and all other entries as some_entry+ctrl\n",
    "\n",
    "perts = [p for p in adata.obs[\"condition\"].unique() if p != dd.control]\n",
    "adata.obs[\"condition\"] = adata.obs[\"condition\"].replace({dd.control:\"ctrl\"})\n",
    "adata.obs[\"condition\"] = adata.obs[\"condition\"].replace({p:p+\"+ctrl\" for p in perts})\n",
    "\n"
   ]
  },
  {
   "cell_type": "code",
   "execution_count": null,
   "id": "e5d0df6e",
   "metadata": {},
   "outputs": [],
   "source": [
    "adata.obs"
   ]
  },
  {
   "cell_type": "markdown",
   "id": "c66c97a6",
   "metadata": {},
   "source": [
    "### Suggested normalization\n",
    "\n",
    "For raw count data we recommend the following normalization and subsetting to the top 5000 most variable genes"
   ]
  },
  {
   "cell_type": "code",
   "execution_count": 8,
   "id": "e2168ac7",
   "metadata": {},
   "outputs": [],
   "source": [
    "sc.pp.normalize_total(adata)\n",
    "sc.pp.log1p(adata)\n",
    "sc.pp.highly_variable_genes(adata,n_top_genes=5000, subset=True)"
   ]
  },
  {
   "cell_type": "markdown",
   "id": "81b54492",
   "metadata": {},
   "source": [
    "### Create dataloader\n",
    "\n",
    "GEARS will take it from here. The new data processing takes around 15 minutes for 5K genes and 100K cells. "
   ]
  },
  {
   "cell_type": "code",
   "execution_count": 4,
   "id": "9fd5e2ed",
   "metadata": {},
   "outputs": [
    {
     "name": "stderr",
     "output_type": "stream",
     "text": [
      "Found local copy...\n"
     ]
    },
    {
     "ename": "AttributeError",
     "evalue": "'NoneType' object has no attribute 'obs'",
     "output_type": "error",
     "traceback": [
      "\u001b[0;31m---------------------------------------------------------------------------\u001b[0m",
      "\u001b[0;31mAttributeError\u001b[0m                            Traceback (most recent call last)",
      "Cell \u001b[0;32mIn[4], line 4\u001b[0m\n\u001b[1;32m      1\u001b[0m \u001b[38;5;28;01mfrom\u001b[39;00m \u001b[38;5;21;01momnicell\u001b[39;00m\u001b[38;5;21;01m.\u001b[39;00m\u001b[38;5;21;01mmodels\u001b[39;00m\u001b[38;5;21;01m.\u001b[39;00m\u001b[38;5;21;01mgears\u001b[39;00m\u001b[38;5;21;01m.\u001b[39;00m\u001b[38;5;21;01mpertdata\u001b[39;00m \u001b[38;5;28;01mimport\u001b[39;00m PertData\n\u001b[1;32m      3\u001b[0m pert_data \u001b[38;5;241m=\u001b[39m PertData(\u001b[38;5;124m'\u001b[39m\u001b[38;5;124m./data\u001b[39m\u001b[38;5;124m'\u001b[39m) \u001b[38;5;66;03m# specific saved folder\u001b[39;00m\n\u001b[0;32m----> 4\u001b[0m \u001b[43mpert_data\u001b[49m\u001b[38;5;241;43m.\u001b[39;49m\u001b[43mnew_data_process\u001b[49m\u001b[43m(\u001b[49m\u001b[43mdataset_name\u001b[49m\u001b[43m \u001b[49m\u001b[38;5;241;43m=\u001b[39;49m\u001b[43m \u001b[49m\u001b[38;5;124;43m'\u001b[39;49m\u001b[38;5;124;43mnorman\u001b[39;49m\u001b[38;5;124;43m'\u001b[39;49m\u001b[43m,\u001b[49m\u001b[43m \u001b[49m\u001b[43mskip_calc_de\u001b[49m\u001b[38;5;241;43m=\u001b[39;49m\u001b[38;5;28;43;01mTrue\u001b[39;49;00m\u001b[43m)\u001b[49m \u001b[38;5;66;03m# specific dataset name and adata object\u001b[39;00m\n\u001b[1;32m      5\u001b[0m \u001b[38;5;28mprint\u001b[39m(\u001b[38;5;124mf\u001b[39m\u001b[38;5;124m\"\u001b[39m\u001b[38;5;124mData processed and saved in \u001b[39m\u001b[38;5;132;01m{\u001b[39;00mpert_data\u001b[38;5;241m.\u001b[39mdata_path\u001b[38;5;132;01m}\u001b[39;00m\u001b[38;5;124m\"\u001b[39m)\n",
      "File \u001b[0;32m/orcd/data/omarabu/001/opitcho/omnicell/notebooks/gears/../../omnicell/models/gears/pertdata.py:248\u001b[0m, in \u001b[0;36mPertData.new_data_process\u001b[0;34m(self, dataset_name, adata, skip_calc_de)\u001b[0m\n\u001b[1;32m    227\u001b[0m \u001b[38;5;28;01mdef\u001b[39;00m \u001b[38;5;21mnew_data_process\u001b[39m(\u001b[38;5;28mself\u001b[39m, dataset_name,\n\u001b[1;32m    228\u001b[0m                      adata \u001b[38;5;241m=\u001b[39m \u001b[38;5;28;01mNone\u001b[39;00m,\n\u001b[1;32m    229\u001b[0m                      skip_calc_de \u001b[38;5;241m=\u001b[39m \u001b[38;5;28;01mFalse\u001b[39;00m):\n\u001b[1;32m    230\u001b[0m \u001b[38;5;250m    \u001b[39m\u001b[38;5;124;03m\"\"\"\u001b[39;00m\n\u001b[1;32m    231\u001b[0m \u001b[38;5;124;03m    Process new dataset\u001b[39;00m\n\u001b[1;32m    232\u001b[0m \n\u001b[0;32m   (...)\u001b[0m\n\u001b[1;32m    245\u001b[0m \n\u001b[1;32m    246\u001b[0m \u001b[38;5;124;03m    \"\"\"\u001b[39;00m\n\u001b[0;32m--> 248\u001b[0m     \u001b[38;5;28;01mif\u001b[39;00m \u001b[38;5;124m'\u001b[39m\u001b[38;5;124mcondition\u001b[39m\u001b[38;5;124m'\u001b[39m \u001b[38;5;129;01mnot\u001b[39;00m \u001b[38;5;129;01min\u001b[39;00m \u001b[43madata\u001b[49m\u001b[38;5;241;43m.\u001b[39;49m\u001b[43mobs\u001b[49m\u001b[38;5;241m.\u001b[39mcolumns\u001b[38;5;241m.\u001b[39mvalues:\n\u001b[1;32m    249\u001b[0m         \u001b[38;5;28;01mraise\u001b[39;00m \u001b[38;5;167;01mValueError\u001b[39;00m(\u001b[38;5;124m\"\u001b[39m\u001b[38;5;124mPlease specify condition\u001b[39m\u001b[38;5;124m\"\u001b[39m)\n\u001b[1;32m    250\u001b[0m     \u001b[38;5;28;01mif\u001b[39;00m \u001b[38;5;124m'\u001b[39m\u001b[38;5;124mgene_name\u001b[39m\u001b[38;5;124m'\u001b[39m \u001b[38;5;129;01mnot\u001b[39;00m \u001b[38;5;129;01min\u001b[39;00m adata\u001b[38;5;241m.\u001b[39mvar\u001b[38;5;241m.\u001b[39mcolumns\u001b[38;5;241m.\u001b[39mvalues:\n",
      "\u001b[0;31mAttributeError\u001b[0m: 'NoneType' object has no attribute 'obs'"
     ]
    }
   ],
   "source": [
    "\n",
    "\n",
    "from omnicell.models.gears.pertdata import PertData\n",
    "\n",
    "pert_data = PertData('./data') # specific saved folder\n",
    "pert_data.new_data_process(dataset_name = 'repogle', adata = adata, skip_calc_de=True) # specific dataset name and adata object\n",
    "print(f\"Data processed and saved in {pert_data.data_path}\")\n",
    "\n"
   ]
  },
  {
   "cell_type": "code",
   "execution_count": 2,
   "id": "cc8e5474",
   "metadata": {},
   "outputs": [
    {
     "ename": "NameError",
     "evalue": "name 'pert_data' is not defined",
     "output_type": "error",
     "traceback": [
      "\u001b[0;31m---------------------------------------------------------------------------\u001b[0m",
      "\u001b[0;31mNameError\u001b[0m                                 Traceback (most recent call last)",
      "Cell \u001b[0;32mIn[2], line 1\u001b[0m\n\u001b[0;32m----> 1\u001b[0m \u001b[43mpert_data\u001b[49m\u001b[38;5;241m.\u001b[39mload(data_path \u001b[38;5;241m=\u001b[39m \u001b[38;5;124m'\u001b[39m\u001b[38;5;124m./data/norman\u001b[39m\u001b[38;5;124m'\u001b[39m) \u001b[38;5;66;03m# load the processed data, the path is saved folder + dataset_name\u001b[39;00m\n\u001b[1;32m      2\u001b[0m \u001b[38;5;28mprint\u001b[39m(\u001b[38;5;124mf\u001b[39m\u001b[38;5;124m\"\u001b[39m\u001b[38;5;124mData loaded from \u001b[39m\u001b[38;5;132;01m{\u001b[39;00mpert_data\u001b[38;5;241m.\u001b[39mdata_path\u001b[38;5;132;01m}\u001b[39;00m\u001b[38;5;124m\"\u001b[39m)\n\u001b[1;32m      3\u001b[0m pert_data\u001b[38;5;241m.\u001b[39mprepare_split(split \u001b[38;5;241m=\u001b[39m \u001b[38;5;124m'\u001b[39m\u001b[38;5;124msimulation\u001b[39m\u001b[38;5;124m'\u001b[39m, seed \u001b[38;5;241m=\u001b[39m \u001b[38;5;241m1\u001b[39m) \u001b[38;5;66;03m# get data split with seed\u001b[39;00m\n",
      "\u001b[0;31mNameError\u001b[0m: name 'pert_data' is not defined"
     ]
    }
   ],
   "source": [
    "pert_data.load(data_path = './data/repogle') # load the processed data, the path is saved folder + dataset_name\n",
    "print(f\"Data loaded from {pert_data.data_path}\")\n",
    "pert_data.prepare_split(split = 'simulation', seed = 1) # get data split with seed\n",
    "print(f\"Data split with seed 1\")\n",
    "pert_data.get_dataloader(batch_size = 32, test_batch_size = 128) # prepare data loader\n",
    "print(f\"Data loader prepared\")"
   ]
  },
  {
   "cell_type": "code",
   "execution_count": null,
   "metadata": {},
   "outputs": [],
   "source": []
  }
 ],
 "metadata": {
  "kernelspec": {
   "display_name": "omnicell",
   "language": "python",
   "name": "python3"
  },
  "language_info": {
   "codemirror_mode": {
    "name": "ipython",
    "version": 3
   },
   "file_extension": ".py",
   "mimetype": "text/x-python",
   "name": "python",
   "nbconvert_exporter": "python",
   "pygments_lexer": "ipython3",
   "version": "3.9.21"
  }
 },
 "nbformat": 4,
 "nbformat_minor": 5
}
