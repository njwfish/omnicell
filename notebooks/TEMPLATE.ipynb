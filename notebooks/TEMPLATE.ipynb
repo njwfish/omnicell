{
 "cells": [
  {
   "cell_type": "code",
   "execution_count": 1,
   "metadata": {},
   "outputs": [
    {
     "name": "stderr",
     "output_type": "stream",
     "text": [
      "2025-01-31 09:19:43,867 - INFO - Loading data catalogue from /orcd/data/omarabu/001/njwfish/omnicell/configs/catalogue/repogle_k562_essential_raw.yaml\n",
      "2025-01-31 09:19:43,869 - INFO - Loading data catalogue from /orcd/data/omarabu/001/njwfish/omnicell/configs/catalogue/satija_IFNB_raw.yaml\n",
      "2025-01-31 09:19:43,871 - INFO - Loading data catalogue from /orcd/data/omarabu/001/njwfish/omnicell/configs/catalogue/adamson_INCOMPLETE.yaml\n",
      "2025-01-31 09:19:43,872 - INFO - Loading data catalogue from /orcd/data/omarabu/001/njwfish/omnicell/configs/catalogue/satija_IFNB_HVG.yaml\n",
      "2025-01-31 09:19:43,874 - INFO - Loading data catalogue from /orcd/data/omarabu/001/njwfish/omnicell/configs/catalogue/kang.yaml\n",
      "2025-01-31 09:19:43,875 - INFO - Loading data catalogue from /orcd/data/omarabu/001/njwfish/omnicell/configs/catalogue/essential_gene_knockouts_raw.yaml\n",
      "2025-01-31 09:19:43,877 - INFO - Loading data catalogue from /orcd/data/omarabu/001/njwfish/omnicell/configs/catalogue/satija_IFNG_raw_INCOMPLETE.yaml\n",
      "2025-01-31 09:19:43,878 - INFO - Loading data catalogue from /orcd/data/omarabu/001/njwfish/omnicell/configs/catalogue/satija_IFNG_raw.yaml\n",
      "2025-01-31 09:19:43,880 - INFO - Loading training data at path: /orcd/data/omarabu/001/Omnicell_datasets/repogle_k562_essential_raw/K562_essential_raw_singlecell_01.h5ad\n"
     ]
    },
    {
     "name": "stdout",
     "output_type": "stream",
     "text": [
      "Using device: cuda\n"
     ]
    },
    {
     "name": "stderr",
     "output_type": "stream",
     "text": [
      "2025-01-31 09:19:47,859 - INFO - Loaded unpreprocessed data, # of data points: 310385, # of genes: 8563.\n",
      "2025-01-31 09:19:47,859 - INFO - Preprocessing training data\n",
      "2025-01-31 09:19:47,862 - INFO - Using identity features for perturbations\n",
      "2025-01-31 09:19:47,983 - INFO - Removing observations with perturbations not in the dataset as a column\n",
      "2025-01-31 09:19:48,169 - INFO - Removed 189 perturbations that were not in the dataset columns and 0 perturbations that did not have an embedding for a total of 189 perturbations removed out of an initial 2058 perturbations\n",
      "/orcd/data/omarabu/001/njwfish/omnicell/notebooks/../omnicell/data/loader.py:178: ImplicitModificationWarning: Setting element `.obsm['embedding']` of view, initializing view as actual.\n",
      "  adata.obsm[\"embedding\"] = adata.X.toarray().astype('float32')\n",
      "2025-01-31 09:20:29,515 - INFO - Doing OOD split\n"
     ]
    },
    {
     "name": "stdout",
     "output_type": "stream",
     "text": [
      "Data loaded:\n",
      "- Number of cells: 279630\n",
      "- Input dimension: 8563\n",
      "- Number of perturbations: 1850\n"
     ]
    }
   ],
   "source": [
    "import sys\n",
    "import yaml\n",
    "import torch\n",
    "import logging\n",
    "from pathlib import Path\n",
    "\n",
    "# Add the path to the directory containing the omnicell package\n",
    "# Assuming the omnicell package is in the parent directory of your notebook\n",
    "sys.path.append('..')  # Adjust this path as needed\n",
    "\n",
    "import yaml\n",
    "import torch\n",
    "import logging\n",
    "from pathlib import Path\n",
    "from omnicell.config.config import Config, ETLConfig, ModelConfig, DatasplitConfig, EvalConfig, EmbeddingConfig\n",
    "from omnicell.data.loader import DataLoader\n",
    "from omnicell.constants import PERT_KEY, GENE_EMBEDDING_KEY, CONTROL_PERT\n",
    "from train import get_model\n",
    "\n",
    "# Set up logging\n",
    "logging.basicConfig(level=logging.INFO, format='%(asctime)s - %(levelname)s - %(message)s')\n",
    "logger = logging.getLogger(__name__)\n",
    "\n",
    "# Configure paths\n",
    "MODEL_CONFIG = ModelConfig.from_yaml(\"/orcd/data/omarabu/001/njwfish/omnicell/configs/models/cinemaot.yaml\")\n",
    "ETL_CONFIG = ETLConfig(name = \"no_preprocessing\", log1p = False, drop_unmatched_perts = True)\n",
    "EMBEDDING_CONFIG = EmbeddingConfig(pert_embedding='GenePT')\n",
    "\n",
    "SPLIT_CONFIG = DatasplitConfig.from_yaml(\"/orcd/data/omarabu/001/njwfish/omnicell/configs/splits/repogle_k562_essential_raw/random_splits/rs_accP_k562_ood_ss:ns_20_2_most_pert_0.1/split_0/split_config.yaml\")\n",
    "EVAL_CONFIG = EvalConfig.from_yaml(\"/orcd/data/omarabu/001/njwfish/omnicell/configs/splits/repogle_k562_essential_raw/random_splits/rs_accP_k562_ood_ss:ns_20_2_most_pert_0.1/split_0/eval_config.yaml\")  # Set this if you want to run evaluations\n",
    "\n",
    "# Load configurations\n",
    "config = Config(model_config=MODEL_CONFIG,\n",
    "                 etl_config=ETL_CONFIG, \n",
    "                 datasplit_config=SPLIT_CONFIG, \n",
    "                 eval_config=EVAL_CONFIG)\n",
    "\n",
    "\n",
    "\n",
    "\n",
    "#Alternatively you can initialize the config objects manually as follows:\n",
    "# etl_config = ETLConfig(name = XXX, log1p = False, drop_unmatched_perts = False, ...)\n",
    "# model_config = ...\n",
    "# embedding_config = ...\n",
    "# datasplit_config = ...\n",
    "# eval_config = ...\n",
    "# config = Config(etl_config, model_config, datasplit_config, eval_config)\n",
    "\n",
    "\n",
    "config.etl_config.pert_embedding = 'bioBERT'\n",
    "config.etl_config.drop_unmatched_perts = True\n",
    "# Set up device\n",
    "device = torch.device('cuda' if torch.cuda.is_available() else 'cpu')\n",
    "print(f\"Using device: {device}\")\n",
    "\n",
    "# Initialize data loader and load training data\n",
    "loader = DataLoader(config)\n",
    "adata, pert_rep_map = loader.get_training_data()\n",
    "\n",
    "# Get dimensions and perturbation IDs\n",
    "input_dim = adata.obsm['embedding'].shape[1]\n",
    "device = torch.device('cuda' if torch.cuda.is_available() else 'cpu')\n",
    "pert_ids = adata.obs[PERT_KEY].unique()\n",
    "gene_emb_dim = adata.varm[GENE_EMBEDDING_KEY].shape[1] if GENE_EMBEDDING_KEY in adata.varm else None\n",
    "\n",
    "print(f\"Data loaded:\")\n",
    "print(f\"- Number of cells: {adata.shape[0]}\")\n",
    "print(f\"- Input dimension: {input_dim}\")\n",
    "print(f\"- Number of perturbations: {len(pert_ids)}\")\n",
    "\n"
   ]
  },
  {
   "cell_type": "code",
   "execution_count": 2,
   "metadata": {},
   "outputs": [
    {
     "name": "stderr",
     "output_type": "stream",
     "text": [
      "2025-01-31 09:20:37,843 - INFO - Mean model selected\n"
     ]
    }
   ],
   "source": [
    "\n",
    "model = get_model(config.model_config.name, config.model_config.parameters, loader, pert_rep_map, input_dim, device, pert_ids, gene_emb_dim)"
   ]
  },
  {
   "cell_type": "code",
   "execution_count": 3,
   "metadata": {},
   "outputs": [
    {
     "name": "stderr",
     "output_type": "stream",
     "text": [
      "/orcd/data/omarabu/001/njwfish/omnicell/notebooks/../omnicell/models/mean_models/model.py:121: FutureWarning: The default of observed=False is deprecated and will be changed to True in a future version of pandas. Pass observed=False to retain current behavior or observed=True to adopt the future default and silence this warning.\n",
      "  pert_means = df.groupby('perturbation').mean()\n"
     ]
    }
   ],
   "source": [
    "model.train(adata)"
   ]
  },
  {
   "cell_type": "code",
   "execution_count": 6,
   "metadata": {},
   "outputs": [
    {
     "name": "stderr",
     "output_type": "stream",
     "text": [
      "2025-01-31 09:21:37,825 - INFO - Running evaluation\n",
      "2025-01-31 09:21:37,827 - INFO - Loading data catalogue from /orcd/data/omarabu/001/njwfish/omnicell/configs/catalogue/repogle_k562_essential_raw.yaml\n",
      "2025-01-31 09:21:37,829 - INFO - Loading data catalogue from /orcd/data/omarabu/001/njwfish/omnicell/configs/catalogue/satija_IFNB_raw.yaml\n",
      "2025-01-31 09:21:37,831 - INFO - Loading data catalogue from /orcd/data/omarabu/001/njwfish/omnicell/configs/catalogue/adamson_INCOMPLETE.yaml\n",
      "2025-01-31 09:21:37,832 - INFO - Loading data catalogue from /orcd/data/omarabu/001/njwfish/omnicell/configs/catalogue/satija_IFNB_HVG.yaml\n",
      "2025-01-31 09:21:37,834 - INFO - Loading data catalogue from /orcd/data/omarabu/001/njwfish/omnicell/configs/catalogue/kang.yaml\n",
      "2025-01-31 09:21:37,836 - INFO - Loading data catalogue from /orcd/data/omarabu/001/njwfish/omnicell/configs/catalogue/essential_gene_knockouts_raw.yaml\n",
      "2025-01-31 09:21:37,837 - INFO - Loading data catalogue from /orcd/data/omarabu/001/njwfish/omnicell/configs/catalogue/satija_IFNG_raw_INCOMPLETE.yaml\n",
      "2025-01-31 09:21:37,839 - INFO - Loading data catalogue from /orcd/data/omarabu/001/njwfish/omnicell/configs/catalogue/satija_IFNG_raw.yaml\n"
     ]
    }
   ],
   "source": [
    "import numpy as np\n",
    "\n",
    "logger.info(\"Running evaluation\")\n",
    "\n",
    "# evaluate each pair of cells and perts\n",
    "eval_dict = {}\n",
    "for cell_id, pert_id, ctrl_data, gt_data in loader.get_eval_data():\n",
    "    logger.debug(f\"Making predictions for cell: {cell_id}, pert: {pert_id}\")\n",
    "\n",
    "    preds = model.make_predict(ctrl_data, pert_id, cell_id)\n",
    "    eval_dict[(cell_id, pert_id)] = (ctrl_data.X.toarray(), gt_data.X.toarray(), preds)\n",
    "    break\n",
    "    \n",
    "if not config.etl_config.log1p:\n",
    "    for (cell, pert) in eval_dict:  \n",
    "        ctrl_data, gt_data, pred_pert = eval_dict[(cell, pert)]\n",
    "        eval_dict[(cell, pert)] =  (np.log1p(ctrl_data), np.log1p(gt_data), np.log1p(pred_pert))\n"
   ]
  },
  {
   "cell_type": "code",
   "execution_count": 7,
   "metadata": {},
   "outputs": [
    {
     "name": "stderr",
     "output_type": "stream",
     "text": [
      "/home/njwfish/miniconda3/envs/omnicell/lib/python3.9/site-packages/anndata/_core/anndata.py:1754: UserWarning: Observation names are not unique. To make them unique, call `.obs_names_make_unique`.\n",
      "  utils.warn_names_duplicates(\"obs\")\n",
      "/home/njwfish/miniconda3/envs/omnicell/lib/python3.9/site-packages/anndata/_core/anndata.py:1754: UserWarning: Observation names are not unique. To make them unique, call `.obs_names_make_unique`.\n",
      "  utils.warn_names_duplicates(\"obs\")\n"
     ]
    }
   ],
   "source": [
    "import scanpy as sc\n",
    "from omnicell.evaluation.utils import get_DEGs, get_eval, get_DEG_Coverage_Recall, get_DEGs_overlaps\n",
    "pval_threshold = 0.05\n",
    "log_fold_change_threshold = 0.0\n",
    "\n",
    "results_dict = {}\n",
    "for (cell, pert) in eval_dict:  \n",
    "    ctrl_data, gt_data, pred_pert = eval_dict[(cell, pert)]\n",
    "\n",
    "    pred_pert = sc.AnnData(X=pred_pert)\n",
    "    true_pert = sc.AnnData(X=gt_data)\n",
    "    control = sc.AnnData(X=ctrl_data)\n",
    "\n",
    "    logger.debug(f\"Getting ground Truth DEGs for {pert} and {cell}\")\n",
    "    true_DEGs_df = get_DEGs(control, true_pert)\n",
    "    signif_true_DEG = true_DEGs_df[true_DEGs_df['pvals_adj'] < pval_threshold]\n",
    "\n",
    "    logger.debug(f\"Number of significant DEGS from ground truth: {signif_true_DEG.shape[0]}\")\n",
    "\n",
    "    logger.debug(f\"Getting predicted DEGs for {pert} and {cell}\")\n",
    "    pred_DEGs_df = get_DEGs(control, pred_pert)\n",
    "\n",
    "\n",
    "    logger.debug(f\"Getting evaluation metrics for {pert} and {cell}\")\n",
    "    r2_and_mse = get_eval(control, true_pert, pred_pert, true_DEGs_df, [100,50,20], pval_threshold, log_fold_change_threshold)\n",
    "\n",
    "    logger.debug(f\"Getting DEG overlaps for {pert} and {cell}\")\n",
    "    DEGs_overlaps = get_DEGs_overlaps(true_DEGs_df, pred_DEGs_df, [100,50,20], pval_threshold, log_fold_change_threshold)\n",
    "\n",
    "    results_dict[(cell, pert)] = (r2_and_mse, DEGs_overlaps)\n",
    "\n"
   ]
  },
  {
   "cell_type": "code",
   "execution_count": 8,
   "metadata": {},
   "outputs": [
    {
     "name": "stdout",
     "output_type": "stream",
     "text": [
      "Cell: k562, Pert: RPL15\n",
      "DEGs Overlaps: {'Overlap_in_top_2159_DEGs': 875, 'Overlap_in_top_100_DEGs': 4, 'Overlap_in_top_50_DEGs': 0, 'Overlap_in_top_20_DEGs': 0, 'Jaccard': 0.17341105257258155}\n",
      "----------------------------------------------------------------------------------------------------\n"
     ]
    }
   ],
   "source": [
    "for (cell, pert) in results_dict:\n",
    "    r2_and_mse, DEGs_overlaps = results_dict[(cell, pert)]\n",
    "    print(f\"Cell: {cell}, Pert: {pert}\")\n",
    "    # print(f\"R2 and MSE: {r2_and_mse}\")\n",
    "    print(f\"DEGs Overlaps: {DEGs_overlaps}\")\n",
    "    print(\"-\"*100)\n"
   ]
  },
  {
   "cell_type": "code",
   "execution_count": 9,
   "metadata": {},
   "outputs": [
    {
     "data": {
      "text/plain": [
       "{'all_genes_mean_sub_diff_R': np.float64(0.6966497841526466),\n",
       " 'all_genes_mean_sub_diff_R2': np.float64(0.485320921759929),\n",
       " 'all_genes_mean_sub_diff_MSE': np.float64(0.01054379975115533),\n",
       " 'all_genes_mean_fold_diff_R': np.float64(0.7028902237471792),\n",
       " 'all_genes_mean_fold_diff_R2': np.float64(0.4940546666393597),\n",
       " 'all_genes_mean_fold_diff_MSE': np.float64(7.89763734207286),\n",
       " 'all_genes_mean_R': np.float64(0.9880260038744728),\n",
       " 'all_genes_mean_R2': np.float64(0.9761953843321598),\n",
       " 'all_genes_mean_MSE': np.float64(0.010543799755630833),\n",
       " 'all_genes_var_R': np.float64(0.8846038081846144),\n",
       " 'all_genes_var_R2': np.float64(0.7825238974547221),\n",
       " 'all_genes_var_MSE': np.float64(0.003680699246692525),\n",
       " 'all_genes_corr_mtx_R': np.float64(0.5764657556881528),\n",
       " 'all_genes_corr_mtx_R2': np.float64(0.3323127674811131),\n",
       " 'all_genes_corr_mtx_MSE': np.float64(0.0074322404434879),\n",
       " 'all_genes_cov_mtx_R': np.float64(0.7999105612729749),\n",
       " 'all_genes_cov_mtx_R2': np.float64(0.6398569060360457),\n",
       " 'all_genes_cov_mtx_MSE': np.float64(0.00043289714800753164),\n",
       " 'Top_2159_DEGs_sub_diff_R': np.float64(0.7150896212223927),\n",
       " 'Top_2159_DEGs_sub_diff_R2': np.float64(0.5113531663799851),\n",
       " 'Top_2159_DEGs_sub_diff_MSE': np.float64(0.03746614363330951),\n",
       " 'Top_2159_DEGs_fold_diff_R': np.float64(0.7042153178411117),\n",
       " 'Top_2159_DEGs_fold_diff_R2': np.float64(0.49591921388205795),\n",
       " 'Top_2159_DEGs_fold_diff_MSE': np.float64(31.280128761344674),\n",
       " 'Top_2159_DEGs_mean_R': np.float64(0.9854054550159079),\n",
       " 'Top_2159_DEGs_mean_R2': np.float64(0.9710239107751085),\n",
       " 'Top_2159_DEGs_mean_MSE': np.float64(0.037466143651030015),\n",
       " 'Top_2159_DEGs_var_R': np.float64(0.7313424466730446),\n",
       " 'Top_2159_DEGs_var_R2': np.float64(0.5348617743057151),\n",
       " 'Top_2159_DEGs_var_MSE': np.float64(0.012811103741294688),\n",
       " 'Top_2159_DEGs_corr_mtx_R': np.float64(0.7787662696275037),\n",
       " 'Top_2159_DEGs_corr_mtx_R2': np.float64(0.6064769027095378),\n",
       " 'Top_2159_DEGs_corr_mtx_MSE': np.float64(0.010277459901281946),\n",
       " 'Top_2159_DEGs_cov_mtx_R': np.float64(0.8461154485281228),\n",
       " 'Top_2159_DEGs_cov_mtx_R2': np.float64(0.7159113522379464),\n",
       " 'Top_2159_DEGs_cov_mtx_MSE': np.float64(0.002035454760013577),\n",
       " 'Top_100_DEGs_sub_diff_R': np.float64(0.6605864243512193),\n",
       " 'Top_100_DEGs_sub_diff_R2': np.float64(0.43637442403712917),\n",
       " 'Top_100_DEGs_sub_diff_MSE': np.float64(0.26779259171178843),\n",
       " 'Top_100_DEGs_fold_diff_R': np.float64(0.6263366978780645),\n",
       " 'Top_100_DEGs_fold_diff_R2': np.float64(0.39229765910879777),\n",
       " 'Top_100_DEGs_fold_diff_MSE': np.float64(564.313126353079),\n",
       " 'Top_100_DEGs_mean_R': np.float64(0.9730704738712052),\n",
       " 'Top_100_DEGs_mean_R2': np.float64(0.9468661471199318),\n",
       " 'Top_100_DEGs_mean_MSE': np.float64(0.26779259215430656),\n",
       " 'Top_100_DEGs_var_R': np.float64(0.25903013493172955),\n",
       " 'Top_100_DEGs_var_R2': np.float64(0.06709661080275002),\n",
       " 'Top_100_DEGs_var_MSE': np.float64(0.14265730505071558),\n",
       " 'Top_100_DEGs_corr_mtx_R': np.float64(0.8841630411394016),\n",
       " 'Top_100_DEGs_corr_mtx_R2': np.float64(0.7817442833168752),\n",
       " 'Top_100_DEGs_corr_mtx_MSE': np.float64(0.05694077635603237),\n",
       " 'Top_100_DEGs_cov_mtx_R': np.float64(0.8658246150682101),\n",
       " 'Top_100_DEGs_cov_mtx_R2': np.float64(0.7496522640580141),\n",
       " 'Top_100_DEGs_cov_mtx_MSE': np.float64(0.06262752591291998),\n",
       " 'Top_50_DEGs_sub_diff_R': np.float64(0.6652204121762533),\n",
       " 'Top_50_DEGs_sub_diff_R2': np.float64(0.4425181967759443),\n",
       " 'Top_50_DEGs_sub_diff_MSE': np.float64(0.35055931242706106),\n",
       " 'Top_50_DEGs_fold_diff_R': np.float64(0.5265366651350396),\n",
       " 'Top_50_DEGs_fold_diff_R2': np.float64(0.27724085973152884),\n",
       " 'Top_50_DEGs_fold_diff_MSE': np.float64(773.4531602426496),\n",
       " 'Top_50_DEGs_mean_R': np.float64(0.9697628446584043),\n",
       " 'Top_50_DEGs_mean_R2': np.float64(0.9404399748799604),\n",
       " 'Top_50_DEGs_mean_MSE': np.float64(0.35055931320925326),\n",
       " 'Top_50_DEGs_var_R': np.float64(0.2891948646056018),\n",
       " 'Top_50_DEGs_var_R2': np.float64(0.08363366971425235),\n",
       " 'Top_50_DEGs_var_MSE': np.float64(0.19822165764594668),\n",
       " 'Top_50_DEGs_corr_mtx_R': np.float64(0.879576184934372),\n",
       " 'Top_50_DEGs_corr_mtx_R2': np.float64(0.7736542651037045),\n",
       " 'Top_50_DEGs_corr_mtx_MSE': np.float64(0.0728897800648223),\n",
       " 'Top_50_DEGs_cov_mtx_R': np.float64(0.8692461301387974),\n",
       " 'Top_50_DEGs_cov_mtx_R2': np.float64(0.755588834761275),\n",
       " 'Top_50_DEGs_cov_mtx_MSE': np.float64(0.08147196269878776),\n",
       " 'Top_20_DEGs_sub_diff_R': np.float64(0.6670738827842734),\n",
       " 'Top_20_DEGs_sub_diff_R2': np.float64(0.4449875650928865),\n",
       " 'Top_20_DEGs_sub_diff_MSE': np.float64(0.47194001982104367),\n",
       " 'Top_20_DEGs_fold_diff_R': np.float64(0.8376632915274399),\n",
       " 'Top_20_DEGs_fold_diff_R2': np.float64(0.7016797899725847),\n",
       " 'Top_20_DEGs_fold_diff_MSE': np.float64(862.991452003021),\n",
       " 'Top_20_DEGs_mean_R': np.float64(0.9649438563837157),\n",
       " 'Top_20_DEGs_mean_R2': np.float64(0.931116645972677),\n",
       " 'Top_20_DEGs_mean_MSE': np.float64(0.4719400219127069),\n",
       " 'Top_20_DEGs_var_R': np.float64(0.3307053524628576),\n",
       " 'Top_20_DEGs_var_R2': np.float64(0.10936603014758287),\n",
       " 'Top_20_DEGs_var_MSE': np.float64(0.3084311682765299),\n",
       " 'Top_20_DEGs_corr_mtx_R': np.float64(0.814644571536373),\n",
       " 'Top_20_DEGs_corr_mtx_R2': np.float64(0.6636457779336808),\n",
       " 'Top_20_DEGs_corr_mtx_MSE': np.float64(0.09212498889395444),\n",
       " 'Top_20_DEGs_cov_mtx_R': np.float64(0.7989236789224949),\n",
       " 'Top_20_DEGs_cov_mtx_R2': np.float64(0.6382790447430537),\n",
       " 'Top_20_DEGs_cov_mtx_MSE': np.float64(0.09457834626385779)}"
      ]
     },
     "execution_count": 9,
     "metadata": {},
     "output_type": "execute_result"
    }
   ],
   "source": [
    "r2_and_mse"
   ]
  },
  {
   "cell_type": "code",
   "execution_count": null,
   "metadata": {},
   "outputs": [],
   "source": []
  }
 ],
 "metadata": {
  "kernelspec": {
   "display_name": "omnicell",
   "language": "python",
   "name": "omnicell"
  },
  "language_info": {
   "codemirror_mode": {
    "name": "ipython",
    "version": 3
   },
   "file_extension": ".py",
   "mimetype": "text/x-python",
   "name": "python",
   "nbconvert_exporter": "python",
   "pygments_lexer": "ipython3",
   "version": "3.9.21"
  }
 },
 "nbformat": 4,
 "nbformat_minor": 2
}
