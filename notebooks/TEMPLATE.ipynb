{
 "cells": [
  {
   "cell_type": "code",
   "execution_count": 1,
   "metadata": {},
   "outputs": [
    {
     "name": "stderr",
     "output_type": "stream",
     "text": [
      "2025-02-08 18:33:20,373 - INFO - Loading data catalogue from /orcd/data/omarabu/001/njwfish/omnicell/configs/catalogue/repogle_k562_essential_raw.yaml\n",
      "2025-02-08 18:33:20,376 - INFO - Loading data catalogue from /orcd/data/omarabu/001/njwfish/omnicell/configs/catalogue/satija_IFNB_raw.yaml\n",
      "2025-02-08 18:33:20,377 - INFO - Loading data catalogue from /orcd/data/omarabu/001/njwfish/omnicell/configs/catalogue/adamson_INCOMPLETE.yaml\n",
      "2025-02-08 18:33:20,378 - INFO - Loading data catalogue from /orcd/data/omarabu/001/njwfish/omnicell/configs/catalogue/satija_IFNB_HVG.yaml\n",
      "2025-02-08 18:33:20,379 - INFO - Loading data catalogue from /orcd/data/omarabu/001/njwfish/omnicell/configs/catalogue/kang.yaml\n",
      "2025-02-08 18:33:20,381 - INFO - Loading data catalogue from /orcd/data/omarabu/001/njwfish/omnicell/configs/catalogue/essential_gene_knockouts_raw.yaml\n",
      "2025-02-08 18:33:20,382 - INFO - Loading data catalogue from /orcd/data/omarabu/001/njwfish/omnicell/configs/catalogue/satija_IFNG_raw_INCOMPLETE.yaml\n",
      "2025-02-08 18:33:20,383 - INFO - Loading data catalogue from /orcd/data/omarabu/001/njwfish/omnicell/configs/catalogue/satija_IFNG_raw.yaml\n",
      "2025-02-08 18:33:20,384 - INFO - Loading training data at path: /orcd/data/omarabu/001/Omnicell_datasets/repogle_k562_essential_raw/K562_essential_raw_singlecell_01.h5ad\n"
     ]
    },
    {
     "name": "stdout",
     "output_type": "stream",
     "text": [
      "Using device: cuda\n"
     ]
    },
    {
     "name": "stderr",
     "output_type": "stream",
     "text": [
      "2025-02-08 18:33:23,834 - INFO - Loaded unpreprocessed data, # of data points: 310385, # of genes: 8563.\n",
      "2025-02-08 18:33:23,835 - INFO - Preprocessing training data\n",
      "2025-02-08 18:33:23,837 - INFO - Using identity features for perturbations\n",
      "2025-02-08 18:33:23,957 - INFO - Removing observations with perturbations not in the dataset as a column\n",
      "2025-02-08 18:33:24,146 - INFO - Removed 189 perturbations that were not in the dataset columns and 0 perturbations that did not have an embedding for a total of 189 perturbations removed out of an initial 2058 perturbations\n",
      "/orcd/data/omarabu/001/njwfish/omnicell/notebooks/../omnicell/data/loader.py:175: ImplicitModificationWarning: Setting element `.obsm['embedding']` of view, initializing view as actual.\n",
      "  adata.obsm[\"embedding\"] = adata.X.toarray().astype('float32')\n",
      "2025-02-08 18:34:00,859 - INFO - Doing OOD split\n"
     ]
    },
    {
     "name": "stdout",
     "output_type": "stream",
     "text": [
      "Data loaded:\n",
      "- Number of cells: 279630\n",
      "- Input dimension: 8563\n",
      "- Number of perturbations: 1850\n"
     ]
    }
   ],
   "source": [
    "import sys\n",
    "import yaml\n",
    "import torch\n",
    "import logging\n",
    "from pathlib import Path\n",
    "\n",
    "# Add the path to the directory containing the omnicell package\n",
    "# Assuming the omnicell package is in the parent directory of your notebook\n",
    "sys.path.append('..')  # Adjust this path as needed\n",
    "\n",
    "import yaml\n",
    "import torch\n",
    "import logging\n",
    "from pathlib import Path\n",
    "from omnicell.config.config import Config, ETLConfig, ModelConfig, DatasplitConfig, EvalConfig, EmbeddingConfig\n",
    "from omnicell.data.loader import DataLoader\n",
    "from omnicell.constants import PERT_KEY, GENE_EMBEDDING_KEY, CONTROL_PERT\n",
    "from train import get_model\n",
    "\n",
    "# Set up logging\n",
    "logging.basicConfig(level=logging.INFO, format='%(asctime)s - %(levelname)s - %(message)s')\n",
    "logger = logging.getLogger(__name__)\n",
    "\n",
    "# Configure paths\n",
    "MODEL_CONFIG = ModelConfig.from_yaml(\"/orcd/data/omarabu/001/njwfish/omnicell/configs/models/scot/scot.yaml\")\n",
    "ETL_CONFIG = ETLConfig(name = \"no_preprocessing\", log1p = False, drop_unmatched_perts = True)\n",
    "EMBEDDING_CONFIG = EmbeddingConfig(pert_embedding='GenePT')\n",
    "\n",
    "SPLIT_CONFIG = DatasplitConfig.from_yaml(\"/orcd/data/omarabu/001/njwfish/omnicell/configs/splits/repogle_k562_essential_raw/random_splits/rs_accP_k562_ood_ss:ns_20_2_most_pert_0.1/split_0/split_config.yaml\")\n",
    "EVAL_CONFIG = EvalConfig.from_yaml(\"/orcd/data/omarabu/001/njwfish/omnicell/configs/splits/repogle_k562_essential_raw/random_splits/rs_accP_k562_ood_ss:ns_20_2_most_pert_0.1/split_0/eval_config.yaml\")  # Set this if you want to run evaluations\n",
    "\n",
    "# Load configurations\n",
    "config = Config(model_config=MODEL_CONFIG,\n",
    "                 etl_config=ETL_CONFIG, \n",
    "                 datasplit_config=SPLIT_CONFIG, \n",
    "                 eval_config=EVAL_CONFIG)\n",
    "\n",
    "\n",
    "\n",
    "\n",
    "#Alternatively you can initialize the config objects manually as follows:\n",
    "# etl_config = ETLConfig(name = XXX, log1p = False, drop_unmatched_perts = False, ...)\n",
    "# model_config = ...\n",
    "# embedding_config = ...\n",
    "# datasplit_config = ...\n",
    "# eval_config = ...\n",
    "# config = Config(etl_config, model_config, datasplit_config, eval_config)\n",
    "\n",
    "# Set up device\n",
    "device = torch.device('cuda' if torch.cuda.is_available() else 'cpu')\n",
    "print(f\"Using device: {device}\")\n",
    "\n",
    "# Initialize data loader and load training data\n",
    "loader = DataLoader(config)\n",
    "adata, pert_rep_map = loader.get_training_data()\n",
    "\n",
    "# Get dimensions and perturbation IDs\n",
    "input_dim = adata.obsm['embedding'].shape[1]\n",
    "device = torch.device('cuda' if torch.cuda.is_available() else 'cpu')\n",
    "pert_ids = adata.obs[PERT_KEY].unique()\n",
    "gene_emb_dim = adata.varm[GENE_EMBEDDING_KEY].shape[1] if GENE_EMBEDDING_KEY in adata.varm else None\n",
    "\n",
    "print(f\"Data loaded:\")\n",
    "print(f\"- Number of cells: {adata.shape[0]}\")\n",
    "print(f\"- Input dimension: {input_dim}\")\n",
    "print(f\"- Number of perturbations: {len(pert_ids)}\")\n",
    "\n"
   ]
  },
  {
   "cell_type": "code",
   "execution_count": 2,
   "metadata": {},
   "outputs": [
    {
     "name": "stderr",
     "output_type": "stream",
     "text": [
      "2025-02-08 18:34:08,452 - INFO - SCOT model selected\n"
     ]
    }
   ],
   "source": [
    "model = get_model(config.model_config.name, config.model_config.parameters, loader, pert_rep_map, input_dim, device, pert_ids)"
   ]
  },
  {
   "cell_type": "code",
   "execution_count": 50,
   "metadata": {},
   "outputs": [],
   "source": [
    "model = SCOT(adata, pert_rep_map, 128, 64, 64, 10)"
   ]
  },
  {
   "cell_type": "code",
   "execution_count": 3,
   "metadata": {},
   "outputs": [
    {
     "name": "stdout",
     "output_type": "stream",
     "text": [
      "Creating source indices\n",
      "Creating target indices\n",
      "Creating pert indices\n",
      "Creating source and target dicts\n",
      "Strata probs [1.85915765e-05 1.85915765e-05 1.85915765e-05 ... 3.62163911e-03\n",
      " 3.68856878e-03 7.42175735e-03]\n"
     ]
    }
   ],
   "source": [
    "import numpy as np\n",
    "from omnicell.models.datamodules import get_dataloader\n",
    "\n",
    "_, dl = get_dataloader(\n",
    "    adata, \n",
    "    pert_ids=np.array(adata.obs[PERT_KEY].values), \n",
    "    offline=False, \n",
    "    pert_map=model.pert_embedding, \n",
    "    collate=None,\n",
    "    batch_size=256\n",
    ")"
   ]
  },
  {
   "cell_type": "code",
   "execution_count": 4,
   "metadata": {},
   "outputs": [],
   "source": [
    "model.max_epochs = 30"
   ]
  },
  {
   "cell_type": "code",
   "execution_count": null,
   "metadata": {},
   "outputs": [
    {
     "name": "stderr",
     "output_type": "stream",
     "text": [
      "/home/njwfish/miniconda3/envs/omnicell/lib/python3.9/site-packages/torch/optim/lr_scheduler.py:62: UserWarning: The verbose parameter is deprecated. Please use get_last_lr() to access the learning rate.\n",
      "  warnings.warn(\n",
      "2025-02-08 18:34:57,266 - INFO - Training for 30 epochs\n",
      "Epoch [1/30]:  55%|█████▌    | 113/204 [00:05<00:03, 22.93it/s, loss=3.2231, best=inf, lr=2.00e-04]"
     ]
    }
   ],
   "source": [
    "model.train(adata, None, dl=dl)"
   ]
  },
  {
   "cell_type": "code",
   "execution_count": 74,
   "metadata": {},
   "outputs": [
    {
     "name": "stderr",
     "output_type": "stream",
     "text": [
      "2025-02-08 12:06:17,852 - INFO - Running evaluation\n",
      "2025-02-08 12:06:17,853 - INFO - Loading data catalogue from /orcd/data/omarabu/001/njwfish/omnicell/configs/catalogue/repogle_k562_essential_raw.yaml\n",
      "2025-02-08 12:06:17,855 - INFO - Loading data catalogue from /orcd/data/omarabu/001/njwfish/omnicell/configs/catalogue/satija_IFNB_raw.yaml\n",
      "2025-02-08 12:06:17,857 - INFO - Loading data catalogue from /orcd/data/omarabu/001/njwfish/omnicell/configs/catalogue/adamson_INCOMPLETE.yaml\n",
      "2025-02-08 12:06:17,858 - INFO - Loading data catalogue from /orcd/data/omarabu/001/njwfish/omnicell/configs/catalogue/satija_IFNB_HVG.yaml\n",
      "2025-02-08 12:06:17,859 - INFO - Loading data catalogue from /orcd/data/omarabu/001/njwfish/omnicell/configs/catalogue/kang.yaml\n",
      "2025-02-08 12:06:17,861 - INFO - Loading data catalogue from /orcd/data/omarabu/001/njwfish/omnicell/configs/catalogue/essential_gene_knockouts_raw.yaml\n",
      "2025-02-08 12:06:17,862 - INFO - Loading data catalogue from /orcd/data/omarabu/001/njwfish/omnicell/configs/catalogue/satija_IFNG_raw_INCOMPLETE.yaml\n",
      "2025-02-08 12:06:17,863 - INFO - Loading data catalogue from /orcd/data/omarabu/001/njwfish/omnicell/configs/catalogue/satija_IFNG_raw.yaml\n"
     ]
    },
    {
     "ename": "AttributeError",
     "evalue": "'numpy.ndarray' object has no attribute 'to'",
     "output_type": "error",
     "traceback": [
      "\u001b[0;31m---------------------------------------------------------------------------\u001b[0m",
      "\u001b[0;31mAttributeError\u001b[0m                            Traceback (most recent call last)",
      "Cell \u001b[0;32mIn[74], line 11\u001b[0m\n\u001b[1;32m      8\u001b[0m logger\u001b[38;5;241m.\u001b[39mdebug(\u001b[38;5;124mf\u001b[39m\u001b[38;5;124m\"\u001b[39m\u001b[38;5;124mMaking predictions for cell: \u001b[39m\u001b[38;5;132;01m{\u001b[39;00mcell_id\u001b[38;5;132;01m}\u001b[39;00m\u001b[38;5;124m, pert: \u001b[39m\u001b[38;5;132;01m{\u001b[39;00mpert_id\u001b[38;5;132;01m}\u001b[39;00m\u001b[38;5;124m\"\u001b[39m)\n\u001b[1;32m      9\u001b[0m model\u001b[38;5;241m.\u001b[39mtotal_adata \u001b[38;5;241m=\u001b[39m loader\u001b[38;5;241m.\u001b[39mcomplete_eval_adata\n\u001b[0;32m---> 11\u001b[0m preds \u001b[38;5;241m=\u001b[39m \u001b[43mmodel\u001b[49m\u001b[38;5;241;43m.\u001b[39;49m\u001b[43mmake_predict\u001b[49m\u001b[43m(\u001b[49m\u001b[43mctrl_data\u001b[49m\u001b[43m,\u001b[49m\u001b[43m \u001b[49m\u001b[43mpert_id\u001b[49m\u001b[43m,\u001b[49m\u001b[43m \u001b[49m\u001b[43mcell_id\u001b[49m\u001b[43m)\u001b[49m\n\u001b[1;32m     12\u001b[0m eval_dict[(cell_id, pert_id)] \u001b[38;5;241m=\u001b[39m (ctrl_data\u001b[38;5;241m.\u001b[39mX\u001b[38;5;241m.\u001b[39mtoarray(), gt_data\u001b[38;5;241m.\u001b[39mX\u001b[38;5;241m.\u001b[39mtoarray(), preds)\n\u001b[1;32m     13\u001b[0m \u001b[38;5;28;01mbreak\u001b[39;00m\n",
      "Cell \u001b[0;32mIn[69], line 192\u001b[0m, in \u001b[0;36mSCOT.make_predict\u001b[0;34m(self, adata, pert_id, cell_type)\u001b[0m\n\u001b[1;32m    190\u001b[0m X_ctrl \u001b[38;5;241m=\u001b[39m to_dense(\u001b[38;5;28mself\u001b[39m\u001b[38;5;241m.\u001b[39mtotal_adata[(\u001b[38;5;28mself\u001b[39m\u001b[38;5;241m.\u001b[39mtotal_adata\u001b[38;5;241m.\u001b[39mobs[PERT_KEY] \u001b[38;5;241m==\u001b[39m CONTROL_PERT) \u001b[38;5;241m&\u001b[39m (\u001b[38;5;28mself\u001b[39m\u001b[38;5;241m.\u001b[39mtotal_adata\u001b[38;5;241m.\u001b[39mobs[CELL_KEY] \u001b[38;5;241m==\u001b[39m cell_type)]\u001b[38;5;241m.\u001b[39mX\u001b[38;5;241m.\u001b[39mtoarray())\n\u001b[1;32m    191\u001b[0m X_pert \u001b[38;5;241m=\u001b[39m to_dense(\u001b[38;5;28mself\u001b[39m\u001b[38;5;241m.\u001b[39mtotal_adata[(\u001b[38;5;28mself\u001b[39m\u001b[38;5;241m.\u001b[39mtotal_adata\u001b[38;5;241m.\u001b[39mobs[PERT_KEY] \u001b[38;5;241m==\u001b[39m pert_id) \u001b[38;5;241m&\u001b[39m (\u001b[38;5;28mself\u001b[39m\u001b[38;5;241m.\u001b[39mtotal_adata\u001b[38;5;241m.\u001b[39mobs[CELL_KEY] \u001b[38;5;241m==\u001b[39m cell_type)]\u001b[38;5;241m.\u001b[39mX\u001b[38;5;241m.\u001b[39mtoarray())\n\u001b[0;32m--> 192\u001b[0m \u001b[38;5;28;01mreturn\u001b[39;00m \u001b[43mbatch_pert_sampling\u001b[49m\u001b[43m(\u001b[49m\u001b[38;5;28;43mself\u001b[39;49m\u001b[43m,\u001b[49m\u001b[43m \u001b[49m\u001b[43mX_ctrl\u001b[49m\u001b[43m,\u001b[49m\u001b[43m \u001b[49m\u001b[43mX_pert\u001b[49m\u001b[43m)\u001b[49m\n",
      "File \u001b[0;32m/orcd/data/omarabu/001/njwfish/omnicell/notebooks/../omnicell/models/scot/sampling_utils.py:29\u001b[0m, in \u001b[0;36mbatch_pert_sampling\u001b[0;34m(model, ctrl, pert, max_rejections)\u001b[0m\n\u001b[1;32m     27\u001b[0m preds \u001b[38;5;241m=\u001b[39m []\n\u001b[1;32m     28\u001b[0m \u001b[38;5;28;01mfor\u001b[39;00m ctrl_data_batch \u001b[38;5;129;01min\u001b[39;00m np\u001b[38;5;241m.\u001b[39marray_split(ctrl, n_batches):\n\u001b[0;32m---> 29\u001b[0m     ctrl_data_batch \u001b[38;5;241m=\u001b[39m \u001b[43mctrl_data_batch\u001b[49m\u001b[38;5;241;43m.\u001b[39;49m\u001b[43mto\u001b[49m(device)\n\u001b[1;32m     30\u001b[0m     pert \u001b[38;5;241m=\u001b[39m pert\u001b[38;5;241m.\u001b[39mto(device)\n\u001b[1;32m     31\u001b[0m     pred \u001b[38;5;241m=\u001b[39m sample_pert_from_model(model, ctrl_data_batch, pert, max_rejections, device)\n",
      "\u001b[0;31mAttributeError\u001b[0m: 'numpy.ndarray' object has no attribute 'to'"
     ]
    }
   ],
   "source": [
    "import numpy as np\n",
    "\n",
    "logger.info(\"Running evaluation\")\n",
    "\n",
    "# evaluate each pair of cells and perts\n",
    "eval_dict = {}\n",
    "for cell_id, pert_id, ctrl_data, gt_data in loader.get_eval_data():\n",
    "    logger.debug(f\"Making predictions for cell: {cell_id}, pert: {pert_id}\")\n",
    "    model.total_adata = loader.complete_eval_adata\n",
    "\n",
    "    preds = model.make_predict(ctrl_data, pert_id, cell_id)\n",
    "    eval_dict[(cell_id, pert_id)] = (ctrl_data.X.toarray(), gt_data.X.toarray(), preds)\n",
    "    break\n",
    "    \n",
    "if not config.etl_config.log1p:\n",
    "    for (cell, pert) in eval_dict:  \n",
    "        ctrl_data, gt_data, pred_pert = eval_dict[(cell, pert)]\n",
    "        # normalize to sum to 1\n",
    "        ctrl_data = ctrl_data / ctrl_data.sum(axis=1).reshape(-1, 1) * 10_000\n",
    "        gt_data = gt_data / gt_data.sum(axis=1).reshape(-1, 1) * 10_000\n",
    "        pred_pert = pred_pert / pred_pert.sum(axis=1).reshape(-1, 1) * 10_000\n",
    "        eval_dict[(cell, pert)] =  (np.log1p(ctrl_data), np.log1p(gt_data), np.log1p(pred_pert))\n"
   ]
  },
  {
   "cell_type": "code",
   "execution_count": 30,
   "metadata": {},
   "outputs": [
    {
     "name": "stderr",
     "output_type": "stream",
     "text": [
      "/home/njwfish/miniconda3/envs/omnicell/lib/python3.9/site-packages/anndata/_core/anndata.py:1754: UserWarning: Observation names are not unique. To make them unique, call `.obs_names_make_unique`.\n",
      "  utils.warn_names_duplicates(\"obs\")\n",
      "/home/njwfish/miniconda3/envs/omnicell/lib/python3.9/site-packages/anndata/_core/anndata.py:1754: UserWarning: Observation names are not unique. To make them unique, call `.obs_names_make_unique`.\n",
      "  utils.warn_names_duplicates(\"obs\")\n"
     ]
    }
   ],
   "source": [
    "import scanpy as sc\n",
    "from omnicell.evaluation.utils import get_DEGs, get_eval, get_DEG_Coverage_Recall, get_DEGs_overlaps\n",
    "pval_threshold = 0.05\n",
    "log_fold_change_threshold = 0.0\n",
    "\n",
    "results_dict = {}\n",
    "for (cell, pert) in eval_dict:  \n",
    "    ctrl_data, gt_data, pred_pert = eval_dict[(cell, pert)]\n",
    "\n",
    "    pred_pert = sc.AnnData(X=pred_pert)\n",
    "    true_pert = sc.AnnData(X=gt_data)\n",
    "    control = sc.AnnData(X=ctrl_data)\n",
    "\n",
    "    logger.debug(f\"Getting ground Truth DEGs for {pert} and {cell}\")\n",
    "    true_DEGs_df = get_DEGs(control, true_pert)\n",
    "    signif_true_DEG = true_DEGs_df[true_DEGs_df['pvals_adj'] < pval_threshold]\n",
    "\n",
    "    logger.debug(f\"Number of significant DEGS from ground truth: {signif_true_DEG.shape[0]}\")\n",
    "\n",
    "    logger.debug(f\"Getting predicted DEGs for {pert} and {cell}\")\n",
    "    pred_DEGs_df = get_DEGs(control, pred_pert)\n",
    "\n",
    "\n",
    "    logger.debug(f\"Getting evaluation metrics for {pert} and {cell}\")\n",
    "    r2_and_mse = get_eval(control, true_pert, pred_pert, true_DEGs_df, [100,50,20], pval_threshold, log_fold_change_threshold)\n",
    "\n",
    "    logger.debug(f\"Getting DEG overlaps for {pert} and {cell}\")\n",
    "    DEGs_overlaps = get_DEGs_overlaps(true_DEGs_df, pred_DEGs_df, [100,50,20], pval_threshold, log_fold_change_threshold)\n",
    "\n",
    "    results_dict[(cell, pert)] = (r2_and_mse, DEGs_overlaps)\n",
    "\n"
   ]
  },
  {
   "cell_type": "code",
   "execution_count": 31,
   "metadata": {},
   "outputs": [
    {
     "name": "stdout",
     "output_type": "stream",
     "text": [
      "Cell: k562, Pert: RPL15\n",
      "DEGs Overlaps: {'Overlap_in_top_2157_DEGs': 1544, 'Overlap_in_top_100_DEGs': 76, 'Overlap_in_top_50_DEGs': 33, 'Overlap_in_top_20_DEGs': 10, 'Jaccard': 0.3181607059916396}\n",
      "----------------------------------------------------------------------------------------------------\n"
     ]
    }
   ],
   "source": [
    "for (cell, pert) in results_dict:\n",
    "    r2_and_mse, DEGs_overlaps = results_dict[(cell, pert)]\n",
    "    print(f\"Cell: {cell}, Pert: {pert}\")\n",
    "    # print(f\"R2 and MSE: {r2_and_mse}\")\n",
    "    print(f\"DEGs Overlaps: {DEGs_overlaps}\")\n",
    "    print(\"-\"*100)"
   ]
  },
  {
   "cell_type": "code",
   "execution_count": 32,
   "metadata": {},
   "outputs": [
    {
     "data": {
      "text/plain": [
       "{'all_genes_mean_sub_diff_R': np.float32(0.9717789),\n",
       " 'all_genes_mean_sub_diff_R2': np.float32(0.9443543),\n",
       " 'all_genes_mean_sub_diff_MSE': np.float32(0.0007809753),\n",
       " 'all_genes_mean_fold_diff_R': np.float32(0.9901514),\n",
       " 'all_genes_mean_fold_diff_R2': np.float32(0.9803998),\n",
       " 'all_genes_mean_fold_diff_MSE': np.float32(0.10270075),\n",
       " 'all_genes_mean_R': np.float32(0.99854505),\n",
       " 'all_genes_mean_R2': np.float32(0.99709225),\n",
       " 'all_genes_mean_MSE': np.float32(0.0007809753),\n",
       " 'all_genes_var_R': np.float32(0.9586433),\n",
       " 'all_genes_var_R2': np.float32(0.918997),\n",
       " 'all_genes_var_MSE': np.float32(0.0007778878),\n",
       " 'all_genes_corr_mtx_R': np.float64(0.1617623330193023),\n",
       " 'all_genes_corr_mtx_R2': np.float64(0.026167052383847655),\n",
       " 'all_genes_corr_mtx_MSE': np.float64(0.007415360278498834),\n",
       " 'all_genes_cov_mtx_R': np.float64(0.21595909353670287),\n",
       " 'all_genes_cov_mtx_R2': np.float64(0.046638330081194376),\n",
       " 'all_genes_cov_mtx_MSE': np.float64(0.00021893967419830623),\n",
       " 'Top_2157_DEGs_sub_diff_R': np.float32(0.98127574),\n",
       " 'Top_2157_DEGs_sub_diff_R2': np.float32(0.96290207),\n",
       " 'Top_2157_DEGs_sub_diff_MSE': np.float32(0.002380434),\n",
       " 'Top_2157_DEGs_fold_diff_R': np.float32(0.9903551),\n",
       " 'Top_2157_DEGs_fold_diff_R2': np.float32(0.9808032),\n",
       " 'Top_2157_DEGs_fold_diff_MSE': np.float32(0.40271807),\n",
       " 'Top_2157_DEGs_mean_R': np.float32(0.9982631),\n",
       " 'Top_2157_DEGs_mean_R2': np.float32(0.9965293),\n",
       " 'Top_2157_DEGs_mean_MSE': np.float32(0.002380434),\n",
       " 'Top_2157_DEGs_var_R': np.float32(0.9081147),\n",
       " 'Top_2157_DEGs_var_R2': np.float32(0.8246723),\n",
       " 'Top_2157_DEGs_var_MSE': np.float32(0.0021426224),\n",
       " 'Top_2157_DEGs_corr_mtx_R': np.float64(0.30987551774854594),\n",
       " 'Top_2157_DEGs_corr_mtx_R2': np.float64(0.0960228364999294),\n",
       " 'Top_2157_DEGs_corr_mtx_MSE': np.float64(0.01252078742796098),\n",
       " 'Top_2157_DEGs_cov_mtx_R': np.float64(0.31391648354336643),\n",
       " 'Top_2157_DEGs_cov_mtx_R2': np.float64(0.09854355864023265),\n",
       " 'Top_2157_DEGs_cov_mtx_MSE': np.float64(0.000799538271050915),\n",
       " 'Top_100_DEGs_sub_diff_R': np.float32(0.9786789),\n",
       " 'Top_100_DEGs_sub_diff_R2': np.float32(0.95781237),\n",
       " 'Top_100_DEGs_sub_diff_MSE': np.float32(0.018903164),\n",
       " 'Top_100_DEGs_fold_diff_R': np.float32(0.9915509),\n",
       " 'Top_100_DEGs_fold_diff_R2': np.float32(0.98317325),\n",
       " 'Top_100_DEGs_fold_diff_MSE': np.float32(7.1114106),\n",
       " 'Top_100_DEGs_mean_R': np.float32(0.9959501),\n",
       " 'Top_100_DEGs_mean_R2': np.float32(0.9919166),\n",
       " 'Top_100_DEGs_mean_MSE': np.float32(0.018903164),\n",
       " 'Top_100_DEGs_var_R': np.float32(0.73084414),\n",
       " 'Top_100_DEGs_var_R2': np.float32(0.53413314),\n",
       " 'Top_100_DEGs_var_MSE': np.float32(0.022612013),\n",
       " 'Top_100_DEGs_corr_mtx_R': np.float64(0.49438246640208683),\n",
       " 'Top_100_DEGs_corr_mtx_R2': np.float64(0.2444140230858105),\n",
       " 'Top_100_DEGs_corr_mtx_MSE': np.float64(0.12732564178499187),\n",
       " 'Top_100_DEGs_cov_mtx_R': np.float64(0.4052238013148193),\n",
       " 'Top_100_DEGs_cov_mtx_R2': np.float64(0.16420632915203212),\n",
       " 'Top_100_DEGs_cov_mtx_MSE': np.float64(0.021229307124433446),\n",
       " 'Top_50_DEGs_sub_diff_R': np.float32(0.9745864),\n",
       " 'Top_50_DEGs_sub_diff_R2': np.float32(0.94981873),\n",
       " 'Top_50_DEGs_sub_diff_MSE': np.float32(0.028551202),\n",
       " 'Top_50_DEGs_fold_diff_R': np.float32(0.99214387),\n",
       " 'Top_50_DEGs_fold_diff_R2': np.float32(0.9843494),\n",
       " 'Top_50_DEGs_fold_diff_MSE': np.float32(10.427217),\n",
       " 'Top_50_DEGs_mean_R': np.float32(0.9953982),\n",
       " 'Top_50_DEGs_mean_R2': np.float32(0.9908176),\n",
       " 'Top_50_DEGs_mean_MSE': np.float32(0.028551202),\n",
       " 'Top_50_DEGs_var_R': np.float32(0.70259744),\n",
       " 'Top_50_DEGs_var_R2': np.float32(0.49364316),\n",
       " 'Top_50_DEGs_var_MSE': np.float32(0.035429146),\n",
       " 'Top_50_DEGs_corr_mtx_R': np.float64(0.5221991692341237),\n",
       " 'Top_50_DEGs_corr_mtx_R2': np.float64(0.27269197234880893),\n",
       " 'Top_50_DEGs_corr_mtx_MSE': np.float64(0.14522190936203944),\n",
       " 'Top_50_DEGs_cov_mtx_R': np.float64(0.4336069798843147),\n",
       " 'Top_50_DEGs_cov_mtx_R2': np.float64(0.18801501300439646),\n",
       " 'Top_50_DEGs_cov_mtx_MSE': np.float64(0.030282262057177614),\n",
       " 'Top_20_DEGs_sub_diff_R': np.float32(0.9720438),\n",
       " 'Top_20_DEGs_sub_diff_R2': np.float32(0.94486916),\n",
       " 'Top_20_DEGs_sub_diff_MSE': np.float32(0.050046623),\n",
       " 'Top_20_DEGs_fold_diff_R': np.float32(0.992316),\n",
       " 'Top_20_DEGs_fold_diff_R2': np.float32(0.9846911),\n",
       " 'Top_20_DEGs_fold_diff_MSE': np.float32(14.36266),\n",
       " 'Top_20_DEGs_mean_R': np.float32(0.9934798),\n",
       " 'Top_20_DEGs_mean_R2': np.float32(0.9870021),\n",
       " 'Top_20_DEGs_mean_MSE': np.float32(0.050046623),\n",
       " 'Top_20_DEGs_var_R': np.float32(0.6386856),\n",
       " 'Top_20_DEGs_var_R2': np.float32(0.4079193),\n",
       " 'Top_20_DEGs_var_MSE': np.float32(0.062077563),\n",
       " 'Top_20_DEGs_corr_mtx_R': np.float64(0.5613358934737012),\n",
       " 'Top_20_DEGs_corr_mtx_R2': np.float64(0.3150979853019184),\n",
       " 'Top_20_DEGs_corr_mtx_MSE': np.float64(0.15267325623650016),\n",
       " 'Top_20_DEGs_cov_mtx_R': np.float64(0.5063462457646928),\n",
       " 'Top_20_DEGs_cov_mtx_R2': np.float64(0.25638652059999867),\n",
       " 'Top_20_DEGs_cov_mtx_MSE': np.float64(0.0410963251297777)}"
      ]
     },
     "execution_count": 32,
     "metadata": {},
     "output_type": "execute_result"
    }
   ],
   "source": [
    "r2_and_mse\n"
   ]
  },
  {
   "cell_type": "code",
   "execution_count": null,
   "metadata": {},
   "outputs": [],
   "source": []
  }
 ],
 "metadata": {
  "kernelspec": {
   "display_name": "omnicell",
   "language": "python",
   "name": "omnicell"
  },
  "language_info": {
   "codemirror_mode": {
    "name": "ipython",
    "version": 3
   },
   "file_extension": ".py",
   "mimetype": "text/x-python",
   "name": "python",
   "nbconvert_exporter": "python",
   "pygments_lexer": "ipython3",
   "version": "3.9.21"
  }
 },
 "nbformat": 4,
 "nbformat_minor": 2
}
